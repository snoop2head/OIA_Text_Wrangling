{
 "metadata": {
  "language_info": {
   "codemirror_mode": {
    "name": "ipython",
    "version": 3
   },
   "file_extension": ".py",
   "mimetype": "text/x-python",
   "name": "python",
   "nbconvert_exporter": "python",
   "pygments_lexer": "ipython3",
   "version": "3.8.3-final"
  },
  "orig_nbformat": 2,
  "kernelspec": {
   "name": "python38364bitnlpkor2venvd6ba932570ef4af6b6af5bc7a778a398",
   "display_name": "Python 3.8.3 64-bit ('nlpkor2': venv)"
  }
 },
 "nbformat": 4,
 "nbformat_minor": 2,
 "cells": [
  {
   "cell_type": "code",
   "execution_count": 1,
   "metadata": {},
   "outputs": [],
   "source": [
    "MECAB_PATH = \"./univ_wordclouds_mecab\"\n",
    "OKT_PATH = \"./univ_wordclouds_okt\""
   ]
  },
  {
   "cell_type": "code",
   "execution_count": 2,
   "metadata": {
    "tags": []
   },
   "outputs": [
    {
     "output_type": "stream",
     "name": "stdout",
     "text": "1.1.0\n1.18.5\n"
    }
   ],
   "source": [
    "import pandas as pd\n",
    "import numpy as np\n",
    "print(pd.__version__)\n",
    "print(np.__version__)"
   ]
  },
  {
   "cell_type": "code",
   "execution_count": 3,
   "metadata": {},
   "outputs": [
    {
     "output_type": "execute_result",
     "data": {
      "text/plain": "       대학코드                             대학명  \\\n0  AR000004        Universidad del Salvador   \n1  AU000019  Australian National University   \n\n                                            gen_info  \\\n0  아르헨티나의 대다수 대학교는 한국처럼 캠퍼스가 있는 것이 아니라 도시 내에 몇개의 ...   \n1  ANU has a very big campus, but unlike Yonsei, ...   \n\n                                            env_info  \\\n0  대학교가 도시 여러곳에 분포하고 있으므로 각기 다르다. 하지만 남녀를 불문하고 부에...   \n1  The city center, called CIVIC, is 20min walk a...   \n\n                                           food_info  \\\n0  기숙사는 학교에서 제공하지 않고 두가지 옵션이 주어진다. 홈스테이 혹은 게스트 하우...   \n1  There are many housing options, but I chose to...   \n\n                                          study_info  \\\n0  아르헨티나에서의 대학 수업은 주로 오전 혹은 저녁에 있다. 대부분의 학생들이 일을하...   \n1  In my personal opinions, classes are generally...   \n\n                                         office_info  \\\n0  EL SALVADOR대학교는 국제 교육부가 잘 되있는 학교이다. 아르헨티나 대학교들...   \n1  Overall, I did not have to ask for help much f...   \n\n                                          facil_info  \\\n0  부대시설로는 헬스장이 있다고 알고 있으나 시내와 먼 곳에 있었다. 동아리는 몇가지 ...   \n1  There were many clubs for you to join at ANU, ...   \n\n                                           mhct_info  \\\n0  딱히 컬쳐쇼크를 받을 만 한 요소는 없었던 것 같다. 하지만 처음에 언어적인 면에서...   \n1  I did have some culture shock during my first ...   \n\n                                           help_info  \\\n0  살바도르 대학교 국제처에서 비자문제나 숙소문제(홈스테이경우) 등은 해결해 주고, 특...   \n1  I was helped a lot, especially during the firs...   \n\n                                            etc_info  \n0                                                NaN  \n1  Overall, my stay in Australia has been nothing...  ",
      "text/html": "<div>\n<style scoped>\n    .dataframe tbody tr th:only-of-type {\n        vertical-align: middle;\n    }\n\n    .dataframe tbody tr th {\n        vertical-align: top;\n    }\n\n    .dataframe thead th {\n        text-align: right;\n    }\n</style>\n<table border=\"1\" class=\"dataframe\">\n  <thead>\n    <tr style=\"text-align: right;\">\n      <th></th>\n      <th>대학코드</th>\n      <th>대학명</th>\n      <th>gen_info</th>\n      <th>env_info</th>\n      <th>food_info</th>\n      <th>study_info</th>\n      <th>office_info</th>\n      <th>facil_info</th>\n      <th>mhct_info</th>\n      <th>help_info</th>\n      <th>etc_info</th>\n    </tr>\n  </thead>\n  <tbody>\n    <tr>\n      <th>0</th>\n      <td>AR000004</td>\n      <td>Universidad del Salvador</td>\n      <td>아르헨티나의 대다수 대학교는 한국처럼 캠퍼스가 있는 것이 아니라 도시 내에 몇개의 ...</td>\n      <td>대학교가 도시 여러곳에 분포하고 있으므로 각기 다르다. 하지만 남녀를 불문하고 부에...</td>\n      <td>기숙사는 학교에서 제공하지 않고 두가지 옵션이 주어진다. 홈스테이 혹은 게스트 하우...</td>\n      <td>아르헨티나에서의 대학 수업은 주로 오전 혹은 저녁에 있다. 대부분의 학생들이 일을하...</td>\n      <td>EL SALVADOR대학교는 국제 교육부가 잘 되있는 학교이다. 아르헨티나 대학교들...</td>\n      <td>부대시설로는 헬스장이 있다고 알고 있으나 시내와 먼 곳에 있었다. 동아리는 몇가지 ...</td>\n      <td>딱히 컬쳐쇼크를 받을 만 한 요소는 없었던 것 같다. 하지만 처음에 언어적인 면에서...</td>\n      <td>살바도르 대학교 국제처에서 비자문제나 숙소문제(홈스테이경우) 등은 해결해 주고, 특...</td>\n      <td>NaN</td>\n    </tr>\n    <tr>\n      <th>1</th>\n      <td>AU000019</td>\n      <td>Australian National University</td>\n      <td>ANU has a very big campus, but unlike Yonsei, ...</td>\n      <td>The city center, called CIVIC, is 20min walk a...</td>\n      <td>There are many housing options, but I chose to...</td>\n      <td>In my personal opinions, classes are generally...</td>\n      <td>Overall, I did not have to ask for help much f...</td>\n      <td>There were many clubs for you to join at ANU, ...</td>\n      <td>I did have some culture shock during my first ...</td>\n      <td>I was helped a lot, especially during the firs...</td>\n      <td>Overall, my stay in Australia has been nothing...</td>\n    </tr>\n  </tbody>\n</table>\n</div>"
     },
     "metadata": {},
     "execution_count": 3
    }
   ],
   "source": [
    "# pandas 설정: 모든 row와 모든 column을 출력하게 하고, 각 column 별 출력되는 글자수는 50자 이내\n",
    "pd.set_option('display.max_rows', None, 'display.max_columns', None, 'display.max_colwidth', 50)\n",
    "\n",
    "# 위의 설정으로 간단하게 보는 df_specific\n",
    "df_specific = pd.read_csv(\"./data_wrangled/df_specific_wrangle.csv\", encoding=\"utf-8\")\n",
    "df_specific.head(2)"
   ]
  },
  {
   "cell_type": "code",
   "execution_count": 4,
   "metadata": {},
   "outputs": [],
   "source": [
    "# pandas 설정: 각 column 별 (혹은 한 cell에서) 출력되는 글자수 제한을 없애기\n",
    "pd.set_option('display.max_colwidth', None)"
   ]
  },
  {
   "cell_type": "code",
   "execution_count": 5,
   "metadata": {},
   "outputs": [],
   "source": [
    "import re\n",
    "# removing junks from the string data\n",
    "def remove_junk(str_data):\n",
    "    str_data = str_data.replace(\"\\\\\\\\n\", \"\")\n",
    "    str_data = str_data.replace(\"\\\\n\", \"\")\n",
    "    str_data = str_data.replace(\"\\n\", \"\")\n",
    "    str_data = str_data.replace(\"\\\\\", \"\")\n",
    "    str_data = str_data.replace(\"\\\\t\", \"\")\n",
    "    str_data = str_data.replace(\"NaN\", \"\")\n",
    "\n",
    "    # print(str_data) makes an error. too much of data\n",
    "    # 한글, english 빼고 전부 날리기\n",
    "    # str_data = re.sub('[^가-힣ㄱ-ㅎㅏ-ㅣa-zA-Z|0-9|.,]', ' ', str_data)\n",
    "\n",
    "    # 한글 빼고 다 날리기\n",
    "    str_data = re.sub('[^가-힣ㄱ-ㅎㅏ]', ' ', str_data)\n",
    "\n",
    "    # replace multiple spaces into single space\n",
    "    str_data = ' '.join(str_data.split())\n",
    "    return str_data\n",
    "\n",
    "# accessing university info of given column (= accessing one cell)\n",
    "def access_univ_info(dataframe, column, univ_code):\n",
    "    df_row = dataframe.loc[dataframe[\"대학코드\"] == univ_code]\n",
    "    str_univ_info = df_row[column].to_string(index=False).lstrip()\n",
    "    str_univ_info = remove_junk(str_univ_info)\n",
    "    return str_univ_info"
   ]
  },
  {
   "cell_type": "code",
   "execution_count": 6,
   "metadata": {},
   "outputs": [],
   "source": [
    "info_list = ['gen_info', 'env_info', 'food_info', 'study_info', 'office_info', 'facil_info', 'mhct_info', 'help_info', 'etc_info']"
   ]
  },
  {
   "cell_type": "code",
   "execution_count": 7,
   "metadata": {},
   "outputs": [
    {
     "output_type": "execute_result",
     "data": {
      "text/plain": "<soynlp.tokenizer._tokenizer.LTokenizer at 0x10e8c1190>"
     },
     "metadata": {},
     "execution_count": 7
    }
   ],
   "source": [
    "# https://github.com/lovit/soynlp\n",
    "from soynlp.tokenizer import RegexTokenizer, LTokenizer\n",
    "from collections import Counter\n",
    "\n",
    "tokenizer = LTokenizer()\n",
    "tokenizer"
   ]
  },
  {
   "cell_type": "code",
   "execution_count": 8,
   "metadata": {
    "tags": []
   },
   "outputs": [
    {
     "output_type": "stream",
     "name": "stdout",
     "text": "total 1957 number of stopwords available\n['있습니다', '수', '있는'] ['캠퍼스', '날씨', '빈칸', '이다\\n\\n']\n"
    }
   ],
   "source": [
    "# read stopwords genarated from filter_stopwords() function\n",
    "stopwords_file = open('stopwords_kr.txt','rt', encoding='UTF8')\n",
    "stopwords_txt = stopwords_file.read()\n",
    "stopwords_list = stopwords_txt.strip('').split(', ')\n",
    "\n",
    "# get human selected stopwords\n",
    "stopwords_nogada_file = open('stopwords_nogada.txt','rt', encoding='UTF8')\n",
    "stopwords_nogada_txt = stopwords_nogada_file.read()\n",
    "stopwords_nogada = stopwords_nogada_txt.strip('').split(', ')\n",
    "stopwords_list = stopwords_list + stopwords_nogada\n",
    "print(f\"total {len(stopwords_list)} number of stopwords available\")\n",
    "print(stopwords_list[:3], stopwords_list[-4:])"
   ]
  },
  {
   "cell_type": "code",
   "execution_count": 9,
   "metadata": {},
   "outputs": [],
   "source": [
    "def throw_corpus(df_specific, column_data: str, stopwords:list, univ_no: int):\n",
    "    # get column data\n",
    "    df_column = df_specific[column_data].fillna(\"\")\n",
    "\n",
    "    # preprocess all values in column data\n",
    "    df_process = df_column.apply(remove_junk)\n",
    "    \n",
    "    # apply predefined soynlp tokenizer\n",
    "    df_tokens = df_process.apply(tokenizer.tokenize)\n",
    "    # print(df_tokens[-2:])\n",
    "\n",
    "    univ_bow = df_tokens[univ_no]\n",
    "    univ_name = df_specific[\"대학명\"][univ_no]\n",
    "    word_count = len(univ_bow)\n",
    "    if word_count < 500:\n",
    "        print(f\"{univ_name}'s {column_data} has not enough words: {word_count}\")\n",
    "        return False\n",
    "\n",
    "    elif word_count >= 500:\n",
    "        print(f\"{univ_name}'s {column_data} section has {word_count} words'\")\n",
    "        subtracted_bow_list = [item for item in univ_bow if item not in stopwords_list]\n",
    "        counted_bow_keywords = Counter(subtracted_bow_list)\n",
    "        counted_bow_tuple_list = list(Counter(counted_bow_keywords).items())\n",
    "        zipped_bow_words, bow_frequency_list = map(list, zip(*counted_bow_tuple_list)) \n",
    "        corpus = \" \".join(zipped_bow_words)\n",
    "        print(corpus[:100])\n",
    "        return corpus    "
   ]
  },
  {
   "cell_type": "code",
   "execution_count": 10,
   "metadata": {},
   "outputs": [],
   "source": [
    "# 그래프에 retina display 적용\n",
    "%config InlineBackend.figure_format = 'retina'\n",
    "\n",
    "# 워드클라우드를 위한 나눔고딕 경로 설정\n",
    "import matplotlib.font_manager as fm\n",
    "fontpath = './font/NanumBarunGothic.ttf'\n",
    "font = fm.FontProperties(fname=fontpath, size=9)"
   ]
  },
  {
   "cell_type": "code",
   "execution_count": 11,
   "metadata": {},
   "outputs": [],
   "source": [
    "from wordcloud import WordCloud\n",
    "import matplotlib.pyplot as plt\n",
    "%matplotlib inline\n",
    "\n",
    "backgroundcolor = \"white\"\n",
    "width=800\n",
    "height=600\n",
    "wordcloud = WordCloud(font_path = fontpath,\n",
    "                        # stopwords = STOPWORDS, \n",
    "                        background_color = backgroundcolor, \n",
    "                        max_words= 50,\n",
    "                        max_font_size= 300,\n",
    "                        width = width, \n",
    "                        height = height)"
   ]
  },
  {
   "cell_type": "code",
   "execution_count": 12,
   "metadata": {},
   "outputs": [],
   "source": [
    "# tokenizing sentences into nouns, verbs, etc\n",
    "from konlpy.tag import Mecab\n",
    "\n",
    "def generate_wordcloud_mecab(df_specific, column_data: str, stopwords_list: list,  corpus: str, univ_no: int, wordcloud):\n",
    "    mecab_tokenizer = Mecab()\n",
    "\n",
    "    # tokenization for mecab: http://openuiz.blogspot.com/2016/07/mecab-ko-dic.html\n",
    "    mecab_pos = [\"NNG\", \"NNP\", \"VV\", \"VA\", \"MAG\"]\n",
    "\n",
    "    mecab_keywords = [\n",
    "            word\n",
    "            for word, tag in mecab_tokenizer.pos(corpus, flatten=True)\n",
    "            if len(word) > 1 and tag in mecab_pos and word not in stopwords_list\n",
    "        ]\n",
    "    \n",
    "    univ_name = df_specific[\"대학명\"][univ_no]\n",
    "    print(univ_name)\n",
    "    print(f\"number of keywords: {len(mecab_keywords)}\")\n",
    "    print(mecab_keywords[:10])\n",
    "\n",
    "    # 빈도수 별로 단어를 크게 표시한다\n",
    "    str_keywords = ' '.join(mecab_keywords)\n",
    "    mecab_wordcloud = wordcloud.generate(str_keywords)\n",
    "    # plt.figure(figsize = (15 , 10))\n",
    "    # plt.imshow(wordcloud)\n",
    "    # plt.axis(\"off\")\n",
    "    # plt.show() \n",
    "\n",
    "    # save wordcloud png as file\n",
    "    college_code = df_specific[\"대학코드\"][univ_no]\n",
    "    wordcloud.to_file(f\"{MECAB_PATH}/{column_data}/{college_code}_{column_data}_mecab.png\")\n",
    "\n"
   ]
  },
  {
   "cell_type": "code",
   "execution_count": 13,
   "metadata": {},
   "outputs": [],
   "source": [
    "# tokenizing sentences into nouns, verbs, etc\n",
    "from konlpy.tag import Okt\n",
    "\n",
    "def okt_kor_tokenizer(raw, stopwords):\n",
    "    okt_tokenizer = Okt()\n",
    "    # position arguments(or position tags): 내가 뽑아내고 싶은 형태소들\n",
    "    twitter_pos = [\"Noun\", \"Alpha\", \"Verb\", \"Number\", \"Adverb\"]\n",
    "    twitter_list = [\n",
    "        word\n",
    "        # normalize 그랰ㅋㅋ -> 그래ㅋㅋ  # stemming 바뀌나->바뀌다\n",
    "        for word, tag in okt_tokenizer.pos(raw, norm=True, stem=True)\n",
    "        if len(word) > 1 and tag in twitter_pos and word not in stopwords\n",
    "    ]\n",
    "    return twitter_list\n",
    "\n",
    "\n",
    "def generate_wordcloud_okt(df_specific, column_data: str, stopwords_list: list,  corpus: str, univ_no: int, wordcloud):\n",
    "    \n",
    "    okt_words = okt_kor_tokenizer(corpus, stopwords_list)\n",
    "    okt_words_counted = Counter(okt_words)\n",
    "    print(\"number of counted words:\", len(okt_words_counted))\n",
    "    \n",
    "    univ_name = df_specific[\"대학명\"][univ_no]\n",
    "    print(univ_name)\n",
    "    print(f\"number of keywords: {len(okt_words_counted)}\")\n",
    "\n",
    "    # 빈도수 별로 단어를 크게 표시한다\n",
    "    wordcloud.generate_from_frequencies(frequencies = okt_words_counted) # mecab으로 추출한 명사로 워드클라우드를 그린다.\n",
    "    plt.figure(figsize = (15 , 10))\n",
    "    # plt.imshow(wordcloud)\n",
    "    # plt.axis(\"off\")\n",
    "    # plt.show() \n",
    "\n",
    "    # save wordcloud png as file\n",
    "    college_code = df_specific[\"대학코드\"][univ_no]\n",
    "    wordcloud.to_file(f\"{OKT_PATH}/{column_data}/{college_code}_{column_data}_okt.png\")"
   ]
  },
  {
   "cell_type": "code",
   "execution_count": 14,
   "metadata": {},
   "outputs": [],
   "source": [
    "column_data = \"env_info\"\n",
    "sample_univ_no = 206"
   ]
  },
  {
   "cell_type": "code",
   "execution_count": 15,
   "metadata": {
    "tags": []
   },
   "outputs": [
    {
     "output_type": "stream",
     "name": "stdout",
     "text": "Public University of Navarre's env_info section has 2050 words'\n앞서 말씀드렸듯이 내에는 카페테리아랑 도서관 스포츠센터가 존재하며 스포츠센터 시설은 되어있는 편입니다 테니스 신청하였는데 학생들에게는 스포츠 수업이나 시설 이용료가 싼 가격에 제공\n"
    }
   ],
   "source": [
    "sample_corpus = throw_corpus(df_specific, column_data , stopwords_list, univ_no = sample_univ_no)"
   ]
  },
  {
   "cell_type": "code",
   "execution_count": 16,
   "metadata": {
    "tags": []
   },
   "outputs": [
    {
     "output_type": "stream",
     "name": "stdout",
     "text": "Public University of Navarre\nnumber of keywords: 717\n['앞서', '카페테리아', '도서관', '스포츠센터', '존재', '스포츠센터', '시설', '테니스', '신청', '스포츠']\n"
    }
   ],
   "source": [
    "generate_wordcloud_mecab(df_specific, column_data , stopwords_list, sample_corpus, sample_univ_no, wordcloud)"
   ]
  },
  {
   "cell_type": "code",
   "execution_count": 17,
   "metadata": {
    "tags": []
   },
   "outputs": [
    {
     "output_type": "stream",
     "name": "stdout",
     "text": "number of counted words: 498\nPublic University of Navarre\nnumber of keywords: 498\n"
    },
    {
     "output_type": "display_data",
     "data": {
      "text/plain": "<Figure size 1080x720 with 0 Axes>"
     },
     "metadata": {}
    }
   ],
   "source": [
    "generate_wordcloud_okt(df_specific, column_data , stopwords_list, sample_corpus, sample_univ_no, wordcloud)"
   ]
  },
  {
   "cell_type": "code",
   "execution_count": 18,
   "metadata": {},
   "outputs": [],
   "source": [
    "no_wordcloud_gen_info = []\n",
    "no_wordcloud_env_info = []\n",
    "no_wordcloud_food_info = []\n",
    "no_wordcloud_study_info = []"
   ]
  },
  {
   "cell_type": "code",
   "execution_count": 19,
   "metadata": {
    "tags": []
   },
   "outputs": [
    {
     "output_type": "stream",
     "name": "stdout",
     "text": "Universidad del Salvador's gen_info has not enough words: 82\nAustralian National University's gen_info section has 2114 words'\n캔버라에서 중심이 도심 부근에 위치하여 접근성이 캔버라가 시드니 멜버른에 소도시라는 느낌이 강해 선호도가 낮은 듯 한데요 퀸즐랜드가 지망이었습니다 학기를 지내며 안전하고 깨끗하며 \nAustralian National University\nnumber of keywords: 605\n['캔버라', '중심', '도심', '부근', '위치', '접근성', '캔버라', '시드', '멜버른', '소도시']\nnumber of counted words: 437\nAustralian National University\nnumber of keywords: 437\nBond University's gen_info section has 1636 words'\n대학교는 휴양지로 유명한 골드코스트에 위치해있습니다 서퍼스 파라다이스 브로드비치 등등 해변가가 인접해있습니다 테마파크나 동물원 주말마다 많아 바쁜 주말을 보내게 되실거에요 날씨는 \nBond University\nnumber of keywords: 541\n['대학교', '휴양지', '골드코스트', '위치', '퍼스', '파라다이스', '브로드', '비치', '해변가', '인접']\nnumber of counted words: 401\nBond University\nnumber of keywords: 401\nCurtin University's gen_info has not enough words: 373\nCurtin University of Technology's gen_info section has 1408 words'\n서호주 퍼스에 대학입니다 퍼스는 서호주에서 도시이며 호주에서 번째로 도시이기는 한국과 비교하면 지방 시도시 정도의 도시입니다 연대보다 캠퍼스도 크고 건물도 많아서 길찾기 힘들 개강\nCurtin University of Technology\nnumber of keywords: 446\n['호주', '퍼스', '퍼스', '호주', '호주', '비교', '지방', '연대', '개강', '도착']\nnumber of counted words: 356\nCurtin University of Technology\nnumber of keywords: 356\nDeakin University's gen_info section has 2143 words'\n디킨대학교의 크기는 큽니다 강의를 들으러 넉넉하게 잡고 나가시는 좋아요 학과별로 건물이 나뉘어 도서관 들의 상태도 시내에서 한시간 떨어진 가리이지만 시내에 많으니 추천드려요 멜버른\nDeakin University\nnumber of keywords: 596\n['디킨', '대학교', '크기', '강의', '학과', '나뉘', '도서관', '상태', '시내', '가리']\nnumber of counted words: 443\nDeakin University\nnumber of keywords: 443\nLa Trobe University's gen_info section has 1925 words'\n라트로브는 지도에서도 보이다시피 큽니다 부분이 공원 주차장 야생동물 이루어져 실제로 수업듣는 공간의 크기는 편은 아니었습니다 시설이 불리는 집중되어 걸어다니지 않아도 위치는 멜번 \nLa Trobe University\nnumber of keywords: 551\n['라트', '로브', '지도', '공원', '주차장', '야생', '동물', '실제로', '공간', '크기']\nnumber of counted words: 432\nLa Trobe University\nnumber of keywords: 432\nMonash University's gen_info section has 3723 words'\n비록 교환학색을 무사히 한학기 이수하였지만 코로나 사태로 인해서 방문하지는 못하였고 조기 귀국을 결정하여 정도만 호주에 머물렀습니다 넓어서 연세대학교와 비슷하거나 큽니다 부지가 평\nMonash University\nnumber of keywords: 972\n['비록', '무사히', '이수하', '코로나', '사태', '방문', '조기', '귀국', '결정', '호주']\nnumber of counted words: 685\nMonash University\nnumber of keywords: 685\nMurdoch University's gen_info section has 864 words'\n서호주 연세대학교와 비교해도 넓은 부지를 갖고 주변으로는 기차역이 버스로 거리에 위치해 시내로 나가는 불편함이 없고 프리맨틀로도 버스노선이 되있어 교통에 불편함은 편이다 도보로 대\nMurdoch University\nnumber of keywords: 309\n['서호', '연세대', '비교', '부지', '주변', '기차역', '버스', '거리', '위치', '시내']\nnumber of counted words: 266\nMurdoch University\nnumber of keywords: 266\nSwinburne University of Technology's gen_info has not enough words: 371\nUniversity of Adelaide's gen_info section has 1036 words'\n애들레이드는 호주 대 하나입니다 호주의 도시는 우리나라의 도시와 달라 경기도 느낌으로 보시면 실질적으로 반경인 시티 도심 크기는 크지 걸어서 정도면 끝에서 끝까지 크기인데다가 내에\nUniversity of Adelaide\nnumber of keywords: 323\n['애들레이드', '호주', '호주', '나라', '경기도', '느낌', '실질', '반경', '시티', '도심']\nnumber of counted words: 292\nUniversity of Adelaide\nnumber of keywords: 292\nUniversity of New South Wales's gen_info section has 4126 words'\n캠퍼스는 편이라서 헷갈려했습니다 본 대학교는 나누어집니다 다행히 캠퍼스에서 살았기 강의실 가는데는 아무런 문제가 없었고 거리였습니다 버스 정류장도 가깝고 년에는 대학교까지 생겨서 \nUniversity of New South Wales\nnumber of keywords: 1141\n['대학교', '나누', '다행히', '강의실', '거리', '버스', '정류장', '가깝', '대학교', '시티']\nnumber of counted words: 802\nUniversity of New South Wales\nnumber of keywords: 802\nUniversity of Queensland's gen_info section has 5663 words'\n교환대학의 크기 크기는 연세대학교와 비슷하다고 생각하시면 연세대는 언덕 구조이지만 평지라서 편하고 걷기 좋아요 공원 수영장 헬스장 박물관 미술관 등등 많으니 찾아다니시는걸 추천해요\nUniversity of Queensland\nnumber of keywords: 1435\n['크기', '크기', '연세대', '연세대', '언덕', '구조', '평지', '편하', '공원', '수영장']\nnumber of counted words: 928\nUniversity of Queensland\nnumber of keywords: 928\nUniversity of Southern Queensland's gen_info has not enough words: 109\nUniversity of Sydney's gen_info section has 4830 words'\n시드니를 고른 이유 하나이자 강조하고 시드니의 날씨가 좋다는 지내는 비 날은 일주일이 채 안될 대체로 맑습니다 여름인 중에는 더워진다고 시기를 제외하고는 생활하기에 겨울인 중에도 \nUniversity of Sydney\nnumber of keywords: 1287\n['시드니', '이유', '이자', '강조', '시드니', '지내', '대체로', '여름', '시기', '제외']\nnumber of counted words: 866\nUniversity of Sydney\nnumber of keywords: 866\nUniversity of Technology, Sydney's gen_info section has 4215 words'\n학교시설 호주의 로서 신설 대학교입니다 도심지에 건축 부지를 확보하지 못한 것인지 흔히 말하는 전경 빌딩들이 시내에 옹기종기 모여 도서관과 빌딩을 제외하고는 건물들이 조금씩 연결되\nUniversity of Technology, Sydney\nnumber of keywords: 1146\n['시설', '호주', '로서', '신설', '대학교', '도심지', '건축', '부지', '확보', '흔히']\nnumber of counted words: 844\nUniversity of Technology, Sydney\nnumber of keywords: 844\nFH Kufstein Tirol University of Applied Sciences's gen_info section has 3980 words'\n대학의 크기 학교의 크기는 경영 단과대인만큼 작습니다 경영관보다 크기의 건물이 동 경영관만큼이나 최신식입니다 강의실도 쾌적하고 도서관도 조용히 공부하기 지리적 위치 쿠프슈타인은 오\nFH Kufstein Tirol University of Applied Sciences\nnumber of keywords: 1031\n['크기', '크기', '경영', '단과', '대인', '경영', '크기', '경영', '최신식', '강의실']\nnumber of counted words: 688\nFH Kufstein Tirol University of Applied Sciences\nnumber of keywords: 688\nJohannes Kepler Universitat Linz's gen_info has not enough words: 222\nKarl-Franzens-Universitat Graz's gen_info section has 617 words'\n오스트리아의 기후는 한국과 비슷한 이른 때에 눈이 온다든지 이상기후가 가끔 나타날 때도 있어요 비도 오구요 파견된 월초에는 날씨가 좋았는데 겨울이 되니 춥더라구요 겨울을 보내시는 \nKarl-Franzens-Universitat Graz\nnumber of keywords: 181\n['오스트리아', '기후', '이상', '기후', '가끔', '파견', '월초', '겨울', '겨울', '보내']\nnumber of counted words: 173\nKarl-Franzens-Universitat Graz\nnumber of keywords: 173\nUniversities of Applied Sciences Upper Austria's gen_info section has 774 words'\n연세대학교에 비하면 매우작다 오스트리아 자체가 유럽의 중앙에 있기때문에 지리적 위치로만 슈타이어 위치해있다고 유럽여행을 목표로 것이라면 공항을 갈때 반드시 비엔나로 가야한다는 점을\nUniversities of Applied Sciences Upper Austria\nnumber of keywords: 224\n['연세대', '비하', '오스트리아', '자체', '중앙', '지리', '위치', '슈타이어', '위치', '목표']\nnumber of counted words: 212\nUniversities of Applied Sciences Upper Austria\nnumber of keywords: 212\nUniversity of Applied Sciences Wiener Neustadt's gen_info section has 963 words'\n비교적 학교입니다 빈까지는 기차를 타면 분에서 소요됩니다 기숙사에서 버스 기차역까지 포함하면 걸린다고 생각하시면 헝가리 국경과도 근접해서 소프론까지는 금방 있어요 근처 역은 이고 \nUniversity of Applied Sciences Wiener Neustadt\nnumber of keywords: 254\n['비교', '기차', '소요', '버스', '기차역', '포함', '헝가리', '국경', '근접', '소프론']\nnumber of counted words: 236\nUniversity of Applied Sciences Wiener Neustadt\nnumber of keywords: 236\nUniversity of Vienna's gen_info section has 1825 words'\n정해진 캠퍼스가 없고 곳곳에 건물이 퍼져 시스템으로 운영됩니다 예쁘고 웅장한 분위기의 본관은 호선 역에서 도보 거리이지만 열리는 수업이 없어서 개강 때와 관광할 외에는 않았습니다 \nUniversity of Vienna\nnumber of keywords: 533\n['정해진', '곳곳', '시스템', '운영', '예쁘', '분위기', '본관', '호선', '도보', '거리']\nnumber of counted words: 392\nUniversity of Vienna\nnumber of keywords: 392\nVienna University of Economics and Business's gen_info section has 3934 words'\n개가 흩어져있는 송도캠퍼스 정도의 대학교입니다 비엔나 시내의 대학들처럼 평지에 위치해있어 편하게 다닐 호선 역과 사이에 접근성이 편입니다 구에 관광지들과도 멀지 중앙유럽의 내륙국인\nVienna University of Economics and Business\nnumber of keywords: 1063\n['송도', '대학교', '비엔나', '시내', '평지', '위치', '편하', '호선', '사이', '접근성']\nnumber of counted words: 740\nVienna University of Economics and Business\nnumber of keywords: 740\nGhent University's gen_info has not enough words: 45\nKU Leuven's gen_info has not enough words: 315\nUniversite Catholique De Louvain's gen_info section has 3115 words'\n대학교의 규모는 연세대와 비슷하며 캠퍼스가 곧 도시인 안전한 타운이다 브뤼셀 시내에서 기차를 소요된다 중순부터 날씨가 좋아져 겨울까지 흐리고 비가 온다 근처 역으로 나가는 기차가 \nUniversite Catholique De Louvain\nnumber of keywords: 892\n['대학교', '규모', '연세대', '안전', '타운', '브뤼셀', '시내', '기차', '소요', '중순']\nnumber of counted words: 671\nUniversite Catholique De Louvain\nnumber of keywords: 671\nBishop's University's gen_info section has 1606 words'\n비숍대는 일단 퀘벡주의 셔브룩이라는 위치하고 크기는 연세대학교 보다는 작지만 작지는 크기입니다 학교로 위해서는 몬트리올 공항에서 에어로셔틀을 방법이 제일 간단하고 편한데 비용이 회\nBishop's University\nnumber of keywords: 418\n['비숍', '일단', '퀘벡주', '브룩', '위치', '크기', '연세대', '작지', '크기', '몬트리올']\nnumber of counted words: 355\nBishop's University\nnumber of keywords: 355\nBrock University's gen_info section has 2450 words'\n위치는 토론토에서 버스로 두시간 떨어진 세인트캐서린에 위치해있고 국경과 가깝습니다 크기는 연세대학교보다 편이고 평지에 위치해있습니다 강의동 운동시설 등은 메인 도서관 건물인 중심으\nBrock University\nnumber of keywords: 593\n['위치', '토론토', '버스', '세인트', '캐서린', '위치', '국경', '가깝', '크기', '연세대']\nnumber of counted words: 442\nBrock University\nnumber of keywords: 442\nDalhousie University's gen_info section has 616 words'\n캐나다 노바스코샤 주의 주도인 위치해 핼리팩스는 도시여서 쪽으로 가도 금방 물가에 닿게 되구요 바다로 둘러싸여 겨울이 되어도 극심하게 춥지는 않지만 바람이 불어 춥게 느껴지기도 기\nDalhousie University\nnumber of keywords: 199\n['캐나다', '노바스', '코샤', '주도', '위치', '핼리팩스', '여서', '금방', '물가', '바다']\nnumber of counted words: 185\nDalhousie University\nnumber of keywords: 185\nHuron University College's gen_info section has 1365 words'\n캐나다 동부 온타리오 주의 런던이라는 도시에 위치한다 런던 시티는 토론토에서 남쪽으로 떨어진 중소 도시다 캠퍼스는 없지만 옆에 캐나다에서 하나로 알려진 대학에 하나이다 따라서 학생\nHuron University College\nnumber of keywords: 328\n['캐나다', '동부', '온타리오', '런던', '위치', '런던', '시티', '토론토', '남쪽', '중소']\nnumber of counted words: 295\nHuron University College\nnumber of keywords: 295\nLaurentian University's gen_info section has 867 words'\n안녕하세요 일부터 일까지 년동안 다녀왔습니다 대학교는 토론토에서 비행기로 버스로 가까운 축에 속합니다 위치에 비교적 중대형 도시에 외곽이 거리에 대학교의 실질 크기는 크지는 않지만\nLaurentian University\nnumber of keywords: 277\n['안녕', '대학교', '토론토', '비행기', '버스', '위치', '비교', '중대', '외곽', '거리']\nnumber of counted words: 265\nLaurentian University\nnumber of keywords: 265\nMcGill University's gen_info section has 3948 words'\n대학교를 여러분 겨울이 아닐 가시기를 추천드립니다 얼어죽는 알았어요 가을 단풍 캐나다 좋지 이러고 별생각 지원했다가 허허 겨울에 캐나다로 갈줄 누가 알았겠어요 갔던 년에는 이상기후\nMcGill University\nnumber of keywords: 1115\n['대학교', '겨울', '가시', '추천', '가을', '단풍', '캐나다', '이러', '별생각', '지원']\nnumber of counted words: 816\nMcGill University\nnumber of keywords: 816\nSimon Fraser University's gen_info section has 7281 words'\n밴쿠버 개의 캠퍼스가 버나비 써리 기준 캠퍼스까지 대중교통으로 소요됩니다 버나비에서 캠퍼스로 가려면 버스와 지하철을 타야합니다 날씨가 좋지 않거나 배차 지켜지지 많기 넉넉히 시간은\nSimon Fraser University\nnumber of keywords: 1459\n['밴쿠버', '버나비', '써리', '기준', '대중교통', '소요', '버나비', '버스', '지하철', '배차']\nnumber of counted words: 916\nSimon Fraser University\nnumber of keywords: 916\nThompson Rivers University's gen_info has not enough words: 98\nTrent University's gen_info has not enough words: 345\nUniversity College of Cape Breton's gen_info has not enough words: 322\nUniversity of Alberta's gen_info section has 8454 words'\n가을학기에 알버타는 월까지도 따뜻하다가 갑자기 추워졌던 난다 캐나다인들은 추위에도 패딩 다니는데 우리는 간다면 패딩은 필수이다 지리적 위치가 여행다니기에 최적은 아니지만 밴프 캘거\nUniversity of Alberta\nnumber of keywords: 2085\n['가을', '알버타', '갑자기', '캐나다인', '추위', '패딩', '다니', '패딩', '필수', '지리']\nnumber of counted words: 1247\nUniversity of Alberta\nnumber of keywords: 1247\nUniversity of British Columbia's gen_info section has 15124 words'\n밴쿠버 본 캠퍼스를 기준으로 학부생 만 여 명과 대학원생 명이 규모의 종합대학입니다 밴쿠버의 서쪽 끝에 캠퍼스가 자리잡고 면이 바다입니다 면적은 제곱 킬로미터 어림잡아 신촌동 전체\nUniversity of British Columbia\nnumber of keywords: 2983\n['밴쿠버', '기준', '학부', '대학원', '규모', '종합', '밴쿠버', '서쪽', '자리', '바다']\nnumber of counted words: 1564\nUniversity of British Columbia\nnumber of keywords: 1564\nUniversity of Calgary's gen_info section has 514 words'\n생활하면서 우산을 한번도 쓰지 않았을 맑습니다 월엔 가을보다도 따뜻하고 맑아서 날씨가 편입니다 말정도부터는 한달에 정도의 빈도로 영하 급격하게 추워지는 날이 때부터는 눈도 오게 되\nUniversity of Calgary\nnumber of keywords: 162\n['우산', '가을', '빈도', '영하', '풍경', '엄청', '거리', '도착', '기온', '캐나다']\nnumber of counted words: 157\nUniversity of Calgary\nnumber of keywords: 157\nUniversity of Manitoba's gen_info section has 4838 words'\n매니토바 대학교는 캐나다 중부에 위니펙에 소재합니다 다운타운에서는 버스로 정도의 거리에 학교는 건물들이 퍼져있는 편입니다 지역은 겨울에 춥기로 유명합니다 겨울학기 학생을 가게 지금\nUniversity of Manitoba\nnumber of keywords: 1253\n['매니토바', '대학교', '캐나다', '중부', '위니펙', '소재', '다운타운', '버스', '거리', '지역']\nnumber of counted words: 869\nUniversity of Manitoba\nnumber of keywords: 869\nUniversity of Montreal's gen_info section has 1235 words'\n몬트리올 대학은 퀘백주립종합대학으로 규모의 대학입니다 몬트리올은 가관의 연합대학이라고 중심가에 산 밑에 위치하고 밑이여서 바람이 불어 겨울이 춥습니다 캠퍼스는 본교처럼 뭉치로 있지\nUniversity of Montreal\nnumber of keywords: 470\n['몬트리올', '주립', '종합', '규모', '몬트리올', '가관', '연합', '중심가', '위치', '바람']\nnumber of counted words: 373\nUniversity of Montreal\nnumber of keywords: 373\nUniversity of Regina's gen_info has not enough words: 59\nUniversity of Toronto's gen_info section has 9091 words'\n토론토 대학교는 캠퍼스로 구성되어있으며 교환학교를 다녀왔습니다 전체적인 크기는 연세대학교보다 크며 건물들 거리가 멀기 시간표 짤 고려하셔야 여름은 대체로 한국보다 시원하고 쾌적하며\nUniversity of Toronto\nnumber of keywords: 2040\n['토론토', '대학교', '구성', '전체', '크기', '연세대', '거리', '시간표', '고려', '여름']\nnumber of counted words: 1227\nUniversity of Toronto\nnumber of keywords: 1227\nUniversity of Victoria's gen_info section has 998 words'\n내의 자체의 규모는 아담한 편이라고 생각하지만 전체적 크기는 적지 않다고 국내의 대학에 녹지 비율이 높기 주변의 편의 시설까지 고려를 한다면 비교적 규모의 대학입니다 빅토리아 대학\nUniversity of Victoria\nnumber of keywords: 270\n['자체', '규모', '전체', '크기', '국내', '비율', '주변', '편의', '시설', '고려']\nnumber of counted words: 245\nUniversity of Victoria\nnumber of keywords: 245\nUniversity of Waterloo's gen_info section has 612 words'\n갔을 연세대학교 크다고 생각했다 기숙사까지 합하면 연세대학교보다는 클 것이었다 기후는 겨울에 갔는데 영하 도까지 내려가서 추웠다 절대 해볼 경험이라는 알기에 소중했다 년동안 파견다\nUniversity of Waterloo\nnumber of keywords: 184\n['연세대', '합하', '연세대', '기후', '겨울', '영하', '내려가', '절대', '알기', '파견']\nnumber of counted words: 167\nUniversity of Waterloo\nnumber of keywords: 167\nUniversity of Western Ontario, Richard Ivey School of Business's gen_info section has 1397 words'\n경영대학이 속해 이하 캐나다 동부에 미국과 국경을 맞대고 도시에 런던은 대 후기에 영국계 이주민에 의해서 건설된 도시로 가운데로 흐르는 강 이름도 짓는 영국의 런던을 연상시키는 부\nUniversity of Western Ontario, Richard Ivey School of Business\nnumber of keywords: 443\n['경영', '이하', '캐나다', '동부', '국경', '맞대', '런던', '후기', '영국', '이주민']\nnumber of counted words: 382\nUniversity of Western Ontario, Richard Ivey School of Business\nnumber of keywords: 382\nYork University's gen_info has not enough words: 264\nYork University: Schulich School of Business's gen_info section has 3234 words'\n슐릭자체의 크기는 동입니다 단지 전체적인 연대보다 같네요 슐릭 건물은 정문에서 걸어서 분이면 도착합니다 피트니스 센터가 멉니다 이상 생각하시면 기숙사들의 위치도 곳곳에 기숙사를 이\nYork University: Schulich School of Business\nnumber of keywords: 909\n['슐릭', '자체', '크기', '단지', '전체', '연대', '슐릭', '정문', '도착', '피트']\nnumber of counted words: 668\nYork University: Schulich School of Business\nnumber of keywords: 668\nFudan University's gen_info section has 2600 words'\n복단대학교는 중국답게 스케일을 자랑합니다 상하이에 총 개의 캠퍼스가 하나하나의 크기가 큽니다 중에서도 광화루가 캠퍼스에서 생활했습니다 들은게 어언생이였기 광화루에서만 광화루 자체는\nFudan University\nnumber of keywords: 822\n['복단', '대학교', '중국', '스케일', '자랑', '상하이', '크기', '화루', '어언', '생이']\nnumber of counted words: 562\nFudan University\nnumber of keywords: 562\nJilin University's gen_info section has 662 words'\n길림대학교는 중국 길림성 장춘시에 위치하고 동북 지역인만큼 겨울에는 춥긴 난방 시설이 되어있고 중순 말이면 우리나라 봄과 비슷해지기 봄 분이라면 추위에 걱정하실 필요는 없다고 초중\nJilin University\nnumber of keywords: 276\n['길림', '대학교', '중국', '길림성', '장춘', '위치', '동북', '지역', '겨울', '난방']\nnumber of counted words: 187\nJilin University\nnumber of keywords: 187\nNanjing University's gen_info section has 976 words'\n난징대학교 장쑤성 난징에 학교로 구로우캠퍼스와 씨엔린캠퍼스 군데로 나뉘어 구로우캠퍼스는 오랜 역사를 갖고 캠퍼스이고 씨엔린캠퍼스는 지은 지난 신축캠퍼스입니다 연세대학교의 신촌과 국\nNanjing University\nnumber of keywords: 301\n['난징', '대학교', '장쑤', '난징', '나뉘', '역사', '지은', '신축', '연세대', '신촌']\nnumber of counted words: 237\nNanjing University\nnumber of keywords: 237\nNorth China Electric Power University's gen_info has not enough words: 87\nPeking University's gen_info section has 1579 words'\n호수 탑이 섬도 편입니다 캠퍼스를 구경하려면 자전거로 이동하는 효율적입니다 칭화대의 길이 넓고 건물이 예쁘다고 북경대 오신 김에 옆에 칭화대도 구경해보시면 대학의 느낌이 확실히 다\nPeking University\nnumber of keywords: 536\n['호수', '섬도', '구경', '자전거', '이동하', '효율', '화대', '예쁘', '경대', '칭화']\nnumber of counted words: 396\nPeking University\nnumber of keywords: 396\nShandong University's gen_info section has 801 words'\n산동대학교 중심캠퍼스는 제남에 위치하고 지난 야오창공항에서 택시를 잡아 탈 위안 나온다고 생각하시면 캠퍼스가 있으니까 헷갈리지 마시고 본인이 캠퍼스를 숙지해서 택시 타시기 정중앙에\nShandong University\nnumber of keywords: 270\n['산동', '대학교', '중심', '제남', '위치', '오창', '공항', '택시', '마시', '본인']\nnumber of counted words: 215\nShandong University\nnumber of keywords: 215\nShanghai University's gen_info has not enough words: 71\nSun Yat-sen University's gen_info section has 770 words'\n대학의 크기 중산대는 총 개가 광우저에 남 동 북 남어진 심천과 주해가 경영학부에 소속된 동캠퍼스에 한학기 교한했습니다 크기는 확실이 커 그공간은 수업구역과 생활구역 구역을 나눠 \nSun Yat-sen University\nnumber of keywords: 279\n['크기', '산대', '광우', '심천', '주해', '경영', '학부', '소속', '크기', '확실이']\nnumber of counted words: 223\nSun Yat-sen University\nnumber of keywords: 223\nTsinghua University's gen_info section has 754 words'\n칭화대학교는 정사각형 모양으로 생겼는데 넓어서 북문에서 남문으로 걸어가려면 정도가 소요됩니다 따라서 교내에서는 자전거를 다니고 가끔 전기 구매하는 경우도 공유 이용하여 다니는 구매\nTsinghua University\nnumber of keywords: 299\n['칭화', '대학교', '정사각형', '모양', '북문', '남문', '걸어가', '소요', '교내', '자전거']\nnumber of counted words: 226\nTsinghua University\nnumber of keywords: 226\nWuhan University's gen_info section has 2261 words'\n우한대학교는 호북성의 우한에 호북성은 중국 대륙의 중간에 위치했기 교통이 편리하고 지역으로 여행다니기에도 저같은 경우에도 휴일이나 주말에 충칭이나 샤먼 등으로 기차를 다녀왔습니다 \nWuhan University\nnumber of keywords: 760\n['우한', '대학교', '호북성', '우한', '호북성', '중국', '대륙', '중간', '위치', '교통']\nnumber of counted words: 573\nWuhan University\nnumber of keywords: 573\nYanbian University of Science and Technology's gen_info has not enough words: 121\nZhejiang Normal University's gen_info section has 3729 words'\n절강사범대학교는 연세대학교의 배 크기로 넓습니다 호수가 개나 문은 정문을 포함해 개가 문에서 문까지 위한 최소 분은 걸립니다 기숙사와 강의동까지의 거리도 많아 중국인 자전거 오토바\nZhejiang Normal University\nnumber of keywords: 1116\n['절강', '사범', '대학교', '연세대', '크기', '호수', '정문', '포함', '최소', '강의']\nnumber of counted words: 670\nZhejiang Normal University\nnumber of keywords: 670\nZhejiang University's gen_info section has 1156 words'\n절강대학교 옥천캠퍼스는 시끌벅적한 중심가에서 벗어나 외곽에 위치하고 절강대학교는 몇개의 캠퍼스로 나뉘어져 학기동안 생활했던 캠퍼스보다는 편이었다 그런지 강의실과 식당과 기숙사의 이\nZhejiang University\nnumber of keywords: 381\n['절강', '대학교', '옥천', '시끌벅적', '중심가', '외곽', '위치', '절강', '대학교', '나뉘']\nnumber of counted words: 299\nZhejiang University\nnumber of keywords: 299\nUniversidad Nacional de Costa Rica's gen_info has not enough words: 113\nCharles University's gen_info section has 3520 words'\n명목상 까를대학교 소속이지만 사실상 미국의 프로그램에 참가하는 것이기 까를대학교에서 듣지 역에서 도보 거리에 건물에 오피스와 강의실이 크리스마스 시즌에 프라하에 도착했습니다 한국만\nCharles University\nnumber of keywords: 1005\n['명목상', '대학교', '소속', '프로그램', '참가', '대학교', '도보', '거리', '오피스', '강의실']\nnumber of counted words: 685\nCharles University\nnumber of keywords: 685\nAarhus University's gen_info has not enough words: 92\nCopenhagen Business School's gen_info section has 844 words'\n종합대학인 연세대학교와 달리 단과대학이기 캠퍼스의 크기가 학교와 비교했을 작습니다 캠퍼스가 학교처럼 지리적으로 모여있는 시내 곳곳에 떨어져 코펜하겐은 자전거 도로가 닦여 자전거를 \nCopenhagen Business School\nnumber of keywords: 256\n['종합', '연세대', '달리', '단과', '크기', '비교', '지리', '시내', '곳곳', '코펜하겐']\nnumber of counted words: 230\nCopenhagen Business School\nnumber of keywords: 230\nUniversity of Copenhagen's gen_info section has 6523 words'\n코펜하겐 대학교는 자연과학캠퍼스 인문캠퍼스 시내 곳곳에 흩어져 조경건축 듣기 자연과학 캠퍼스도 다니고 덴마크어 수업과 미디어커뮤니케이션학과 캠퍼스에도 다녔습니다 지하철을 타거나 자\nUniversity of Copenhagen\nnumber of keywords: 1659\n['코펜하겐', '대학교', '자연', '과학', '인문', '시내', '곳곳', '조경', '건축', '자연']\nnumber of counted words: 1066\nUniversity of Copenhagen\nnumber of keywords: 1066\nAalto University's gen_info section has 7307 words'\n알토대학교는 헬싱키 행정권안에 속해있지만 엄밀히 말하면 도시의 지역에 위치하고 등지의 단과대학들의 통합으로 이루어진 종합대학의 성격을 가지며 학사를 포함하여 석박사 과정까지 제공하\nAalto University\nnumber of keywords: 1790\n['알토', '대학교', '헬싱키', '행정', '엄밀히', '지역', '위치', '등지', '단과', '통합']\nnumber of counted words: 1112\nAalto University\nnumber of keywords: 1112\nAbo Akademi University's gen_info has not enough words: 175\nThe University of Turku's gen_info has not enough words: 120\nUniversity of Eastern Finland's gen_info section has 3763 words'\n요엔수는 헬싱키 공항에서 기차를 달려야 도착할 도시입니다 헬싱키보다 북쪽에 겨울이 일찍 옵니다 그렇기때문에 오시는 요엔수에 도착한 즈음의 화창하고 맑은 날씨를 충분히 즐기시기를 추\nUniversity of Eastern Finland\nnumber of keywords: 1019\n['요엔수', '헬싱키', '공항', '기차', '도착', '헬싱', '북쪽', '겨울', '일찍', '요엔수']\nnumber of counted words: 726\nUniversity of Eastern Finland\nnumber of keywords: 726\nUniversity of Helsinki's gen_info section has 2792 words'\n헬싱키 대학교의 크기 위치우선 대학교는 단과대별로 별도의 캠퍼스가 위치해 인문대는 시내 한복판에 저와 심리학과 의과대학은 수학과와 화학과 자연대는 식으로 분리되어 각각 대중교통으로\nUniversity of Helsinki\nnumber of keywords: 774\n['헬싱키', '대학교', '크기', '위치', '대학교', '과대', '별도', '위치', '인문', '시내']\nnumber of counted words: 575\nUniversity of Helsinki\nnumber of keywords: 575\n"
    }
   ],
   "source": [
    "column_data = \"gen_info\"\n",
    "\n",
    "for i in range(470):\n",
    "    corpus = throw_corpus(df_specific, column_data , stopwords_list, univ_no = i)\n",
    "    if corpus is False:\n",
    "        college_code = df_specific[\"대학코드\"][i]\n",
    "        no_wordcloud_gen_info.append(college_code)\n",
    "        pass\n",
    "    else:\n",
    "        generate_wordcloud_mecab(df_specific, column_data , stopwords_list, corpus, i, wordcloud)\n",
    "        generate_wordcloud_okt(df_specific, column_data , stopwords_list, corpus, i, wordcloud)\n",
    "\n",
    "print(no_wordcloud_gen_info)"
   ]
  },
  {
   "cell_type": "code",
   "execution_count": null,
   "metadata": {},
   "outputs": [],
   "source": []
  }
 ]
}