{
 "metadata": {
  "language_info": {
   "codemirror_mode": {
    "name": "ipython",
    "version": 3
   },
   "file_extension": ".py",
   "mimetype": "text/x-python",
   "name": "python",
   "nbconvert_exporter": "python",
   "pygments_lexer": "ipython3",
   "version": "3.8.3-final"
  },
  "orig_nbformat": 2,
  "kernelspec": {
   "name": "python38364bitnlpkor2venv9d064b0babaf4dea8511fea4ea08c8f3",
   "display_name": "Python 3.8.3 64-bit ('nlpkor2': venv)",
   "language": "python"
  }
 },
 "nbformat": 4,
 "nbformat_minor": 2,
 "cells": [
  {
   "source": [
    "* Dataset Source: https://github.com/TheEconomist/big-mac-data\n",
    "* Analysis Source: https://www.kaggle.com/iampedroalz/the-big-mac-index"
   ],
   "cell_type": "markdown",
   "metadata": {}
  },
  {
   "cell_type": "code",
   "execution_count": 1,
   "metadata": {},
   "outputs": [
    {
     "output_type": "stream",
     "name": "stdout",
     "text": [
      "1.1.0\n1.18.5\n"
     ]
    }
   ],
   "source": [
    "import pandas as pd\n",
    "import numpy as np\n",
    "print(pd.__version__)\n",
    "print(np.__version__)"
   ]
  },
  {
   "cell_type": "code",
   "execution_count": 2,
   "metadata": {},
   "outputs": [],
   "source": [
    "import matplotlib.pyplot as plt\n",
    "import plotly_express as px\n",
    "import plotly.graph_objects as go\n",
    "from IPython.display import Image\n",
    "from sklearn.linear_model import LinearRegression\n",
    "from scipy import stats"
   ]
  },
  {
   "source": [
    "#### Codebook\n",
    "\n",
    "This codebook largely applies to all three files. The exception is the variables suffixed \"\\_raw\" or \"\\_adjusted\"—these appear (with suffixes) in the \"full\" file but without suffixes in the respective (\"raw\" or \"adjusted\") files.\n",
    "\n",
    "| variable      | definition                                            | source                     |\n",
    "| ------------- | ----------------------------------------------------- | -------------------------- |\n",
    "| date          | Date of observation                                   |\n",
    "| iso_a3        | Three-character [ISO 3166-1 country code][iso 3166-1] |\n",
    "| currency_code | Three-character [ISO 4217 currency code][iso 4217]    |\n",
    "| name          | Country name                                          |\n",
    "| local_price   | Price of a Big Mac in the local currency              | McDonalds; _The Economist_ |\n",
    "| dollar_ex     | Local currency units per dollar                       | _Reuters_                  |\n",
    "| dollar_price  | Price of a Big Mac in dollars                         |\n",
    "| USD_raw       | Raw index, relative to the US dollar                  |\n",
    "| EUR_raw       | Raw index, relative to the Euro                       |\n",
    "| GBP_raw       | Raw index, relative to the British pound              |\n",
    "| JPY_raw       | Raw index, relative to the Japanese yen               |\n",
    "| CNY_raw       | Raw index, relative to the Chinese yuan               |\n",
    "| GDP_dollar    | GDP per person, in dollars                            | IMF                        |\n",
    "| adj_price     | GDP-adjusted price of a Big Mac, in dollars           |\n",
    "| USD_adjusted  | Adjusted index, relative to the US dollar             |\n",
    "| EUR_adjusted  | Adjusted index, relative to the Euro                  |\n",
    "| GBP_adjusted  | Adjusted index, relative to the British pound         |\n",
    "| JPY_adjusted  | Adjusted index, relative to the Japanese yen          |\n",
    "| CNY_adjusted  | Adjusted index, relative to the Chinese yuan          |\n"
   ],
   "cell_type": "markdown",
   "metadata": {}
  },
  {
   "cell_type": "code",
   "execution_count": 3,
   "metadata": {},
   "outputs": [],
   "source": [
    "big_mac_countries = ['ARG', 'AUS', 'BRA', 'GBR', 'CAN', 'CHL', 'CHN', 'CZE', 'DNK',\n",
    "                      'EGY', 'HKG', 'HUN', 'IDN', 'ISR', 'JPN', 'MYS', 'MEX', 'NZL',\n",
    "                      'NOR', 'PER', 'PHL', 'POL', 'RUS', 'SAU', 'SGP', 'ZAF', 'KOR',\n",
    "                      'SWE', 'CHE', 'TWN', 'THA', 'TUR', 'ARE', 'USA', 'COL', 'CRI',\n",
    "                      'PAK', 'LKA', 'UKR', 'URY', 'IND', 'VNM', 'GTM', 'HND',\n",
    "                      'NIC', 'AZE', 'BHR', 'HRV', 'JOR', 'KWT', 'LBN', 'MDA', 'OMN',\n",
    "                      'QAT', 'ROU', 'EUZ']\n"
   ]
  },
  {
   "cell_type": "code",
   "execution_count": 17,
   "metadata": {},
   "outputs": [
    {
     "output_type": "execute_result",
     "data": {
      "text/plain": [
       "            date iso_a3 currency_code           name  local_price   dollar_ex  \\\n",
       "1383  2020-07-01    USA           USD  United States         5.71      1.0000   \n",
       "1384  2020-07-01    VNM           VND        Vietnam     66000.00  23180.0000   \n",
       "1385  2020-07-01    ZAF           ZAR   South Africa        31.00     16.6725   \n",
       "\n",
       "      dollar_price  USD_raw  EUR_raw  GBP_raw  JPY_raw  CNY_raw  GDP_dollar  \\\n",
       "1383      5.710000  0.00000  0.19303  0.33494  0.57062  0.84286   62868.917   \n",
       "1384      2.847282 -0.50135 -0.40510 -0.33433 -0.21681 -0.08106         NaN   \n",
       "1385      1.859349 -0.67437 -0.61151 -0.56530 -0.48856 -0.39991    6353.846   \n",
       "\n",
       "      adj_price  USD_adjusted  EUR_adjusted  GBP_adjusted  JPY_adjusted  \\\n",
       "1383   5.174502         0.000        -0.019         0.122         0.279   \n",
       "1384        NaN           NaN           NaN           NaN           NaN   \n",
       "1385   2.871878        -0.413        -0.425        -0.342        -0.249   \n",
       "\n",
       "      CNY_adjusted  \n",
       "1383         0.070  \n",
       "1384           NaN  \n",
       "1385        -0.372  "
      ],
      "text/html": "<div>\n<style scoped>\n    .dataframe tbody tr th:only-of-type {\n        vertical-align: middle;\n    }\n\n    .dataframe tbody tr th {\n        vertical-align: top;\n    }\n\n    .dataframe thead th {\n        text-align: right;\n    }\n</style>\n<table border=\"1\" class=\"dataframe\">\n  <thead>\n    <tr style=\"text-align: right;\">\n      <th></th>\n      <th>date</th>\n      <th>iso_a3</th>\n      <th>currency_code</th>\n      <th>name</th>\n      <th>local_price</th>\n      <th>dollar_ex</th>\n      <th>dollar_price</th>\n      <th>USD_raw</th>\n      <th>EUR_raw</th>\n      <th>GBP_raw</th>\n      <th>JPY_raw</th>\n      <th>CNY_raw</th>\n      <th>GDP_dollar</th>\n      <th>adj_price</th>\n      <th>USD_adjusted</th>\n      <th>EUR_adjusted</th>\n      <th>GBP_adjusted</th>\n      <th>JPY_adjusted</th>\n      <th>CNY_adjusted</th>\n    </tr>\n  </thead>\n  <tbody>\n    <tr>\n      <th>1383</th>\n      <td>2020-07-01</td>\n      <td>USA</td>\n      <td>USD</td>\n      <td>United States</td>\n      <td>5.71</td>\n      <td>1.0000</td>\n      <td>5.710000</td>\n      <td>0.00000</td>\n      <td>0.19303</td>\n      <td>0.33494</td>\n      <td>0.57062</td>\n      <td>0.84286</td>\n      <td>62868.917</td>\n      <td>5.174502</td>\n      <td>0.000</td>\n      <td>-0.019</td>\n      <td>0.122</td>\n      <td>0.279</td>\n      <td>0.070</td>\n    </tr>\n    <tr>\n      <th>1384</th>\n      <td>2020-07-01</td>\n      <td>VNM</td>\n      <td>VND</td>\n      <td>Vietnam</td>\n      <td>66000.00</td>\n      <td>23180.0000</td>\n      <td>2.847282</td>\n      <td>-0.50135</td>\n      <td>-0.40510</td>\n      <td>-0.33433</td>\n      <td>-0.21681</td>\n      <td>-0.08106</td>\n      <td>NaN</td>\n      <td>NaN</td>\n      <td>NaN</td>\n      <td>NaN</td>\n      <td>NaN</td>\n      <td>NaN</td>\n      <td>NaN</td>\n    </tr>\n    <tr>\n      <th>1385</th>\n      <td>2020-07-01</td>\n      <td>ZAF</td>\n      <td>ZAR</td>\n      <td>South Africa</td>\n      <td>31.00</td>\n      <td>16.6725</td>\n      <td>1.859349</td>\n      <td>-0.67437</td>\n      <td>-0.61151</td>\n      <td>-0.56530</td>\n      <td>-0.48856</td>\n      <td>-0.39991</td>\n      <td>6353.846</td>\n      <td>2.871878</td>\n      <td>-0.413</td>\n      <td>-0.425</td>\n      <td>-0.342</td>\n      <td>-0.249</td>\n      <td>-0.372</td>\n    </tr>\n  </tbody>\n</table>\n</div>"
     },
     "metadata": {},
     "execution_count": 17
    }
   ],
   "source": [
    "big_mac_full = pd.read_csv('./data/big-mac-full-index.csv')\n",
    "big_mac_full.tail(3)"
   ]
  },
  {
   "cell_type": "code",
   "execution_count": 18,
   "metadata": {},
   "outputs": [
    {
     "output_type": "execute_result",
     "data": {
      "text/plain": [
       "               name iso_a3 currency_code  local_price   dollar_ex  GDP_dollar  \\\n",
       "1655  United States    USA           USD         5.71      1.0000   62868.917   \n",
       "1656        Vietnam    VNM           VND     66000.00  23180.0000    2551.123   \n",
       "1657   South Africa    ZAF           ZAR        31.00     16.6725    6353.846   \n",
       "\n",
       "            date  \n",
       "1655  2020-07-01  \n",
       "1656  2020-07-01  \n",
       "1657  2020-07-01  "
      ],
      "text/html": "<div>\n<style scoped>\n    .dataframe tbody tr th:only-of-type {\n        vertical-align: middle;\n    }\n\n    .dataframe tbody tr th {\n        vertical-align: top;\n    }\n\n    .dataframe thead th {\n        text-align: right;\n    }\n</style>\n<table border=\"1\" class=\"dataframe\">\n  <thead>\n    <tr style=\"text-align: right;\">\n      <th></th>\n      <th>name</th>\n      <th>iso_a3</th>\n      <th>currency_code</th>\n      <th>local_price</th>\n      <th>dollar_ex</th>\n      <th>GDP_dollar</th>\n      <th>date</th>\n    </tr>\n  </thead>\n  <tbody>\n    <tr>\n      <th>1655</th>\n      <td>United States</td>\n      <td>USA</td>\n      <td>USD</td>\n      <td>5.71</td>\n      <td>1.0000</td>\n      <td>62868.917</td>\n      <td>2020-07-01</td>\n    </tr>\n    <tr>\n      <th>1656</th>\n      <td>Vietnam</td>\n      <td>VNM</td>\n      <td>VND</td>\n      <td>66000.00</td>\n      <td>23180.0000</td>\n      <td>2551.123</td>\n      <td>2020-07-01</td>\n    </tr>\n    <tr>\n      <th>1657</th>\n      <td>South Africa</td>\n      <td>ZAF</td>\n      <td>ZAR</td>\n      <td>31.00</td>\n      <td>16.6725</td>\n      <td>6353.846</td>\n      <td>2020-07-01</td>\n    </tr>\n  </tbody>\n</table>\n</div>"
     },
     "metadata": {},
     "execution_count": 18
    }
   ],
   "source": [
    "big_mac = pd.read_csv('./data/big-mac-source-data.csv')\n",
    "big_mac.tail(3)"
   ]
  },
  {
   "cell_type": "code",
   "execution_count": 21,
   "metadata": {},
   "outputs": [
    {
     "output_type": "stream",
     "name": "stdout",
     "text": [
      "['name', 'iso_a3', 'currency_code', 'local_price', 'dollar_ex', 'GDP_dollar', 'date', 'dollar_price']\n"
     ]
    }
   ],
   "source": [
    "print(list(big_mac.columns))"
   ]
  },
  {
   "cell_type": "code",
   "execution_count": 22,
   "metadata": {},
   "outputs": [
    {
     "output_type": "execute_result",
     "data": {
      "text/plain": [
       "               name iso_a3 currency_code  local_price   dollar_ex  \\\n",
       "1653        Ukraine    UKR           UAH        59.00     27.1300   \n",
       "1654        Uruguay    URY           UYU       189.00     43.6750   \n",
       "1655  United States    USA           USD         5.71      1.0000   \n",
       "1656        Vietnam    VNM           VND     66000.00  23180.0000   \n",
       "1657   South Africa    ZAF           ZAR        31.00     16.6725   \n",
       "\n",
       "      dollar_price  GDP_dollar        date  \n",
       "1653      2.174714    3112.883  2020-07-01  \n",
       "1654      4.327418   17014.132  2020-07-01  \n",
       "1655      5.710000   62868.917  2020-07-01  \n",
       "1656      2.847282    2551.123  2020-07-01  \n",
       "1657      1.859349    6353.846  2020-07-01  "
      ],
      "text/html": "<div>\n<style scoped>\n    .dataframe tbody tr th:only-of-type {\n        vertical-align: middle;\n    }\n\n    .dataframe tbody tr th {\n        vertical-align: top;\n    }\n\n    .dataframe thead th {\n        text-align: right;\n    }\n</style>\n<table border=\"1\" class=\"dataframe\">\n  <thead>\n    <tr style=\"text-align: right;\">\n      <th></th>\n      <th>name</th>\n      <th>iso_a3</th>\n      <th>currency_code</th>\n      <th>local_price</th>\n      <th>dollar_ex</th>\n      <th>dollar_price</th>\n      <th>GDP_dollar</th>\n      <th>date</th>\n    </tr>\n  </thead>\n  <tbody>\n    <tr>\n      <th>1653</th>\n      <td>Ukraine</td>\n      <td>UKR</td>\n      <td>UAH</td>\n      <td>59.00</td>\n      <td>27.1300</td>\n      <td>2.174714</td>\n      <td>3112.883</td>\n      <td>2020-07-01</td>\n    </tr>\n    <tr>\n      <th>1654</th>\n      <td>Uruguay</td>\n      <td>URY</td>\n      <td>UYU</td>\n      <td>189.00</td>\n      <td>43.6750</td>\n      <td>4.327418</td>\n      <td>17014.132</td>\n      <td>2020-07-01</td>\n    </tr>\n    <tr>\n      <th>1655</th>\n      <td>United States</td>\n      <td>USA</td>\n      <td>USD</td>\n      <td>5.71</td>\n      <td>1.0000</td>\n      <td>5.710000</td>\n      <td>62868.917</td>\n      <td>2020-07-01</td>\n    </tr>\n    <tr>\n      <th>1656</th>\n      <td>Vietnam</td>\n      <td>VNM</td>\n      <td>VND</td>\n      <td>66000.00</td>\n      <td>23180.0000</td>\n      <td>2.847282</td>\n      <td>2551.123</td>\n      <td>2020-07-01</td>\n    </tr>\n    <tr>\n      <th>1657</th>\n      <td>South Africa</td>\n      <td>ZAF</td>\n      <td>ZAR</td>\n      <td>31.00</td>\n      <td>16.6725</td>\n      <td>1.859349</td>\n      <td>6353.846</td>\n      <td>2020-07-01</td>\n    </tr>\n  </tbody>\n</table>\n</div>"
     },
     "metadata": {},
     "execution_count": 22
    }
   ],
   "source": [
    "big_mac[\"dollar_price\"] = big_mac[\"local_price\"] / big_mac[\"dollar_ex\"]\n",
    "big_mac = big_mac[['name', 'iso_a3', 'currency_code', 'local_price', 'dollar_ex', 'dollar_price', 'GDP_dollar', 'date']]\n",
    "big_mac.tail()"
   ]
  },
  {
   "cell_type": "code",
   "execution_count": 24,
   "metadata": {},
   "outputs": [
    {
     "output_type": "execute_result",
     "data": {
      "text/plain": [
       "               name iso_a3 currency_code  local_price   dollar_ex  \\\n",
       "1655  United States    USA           USD         5.71      1.0000   \n",
       "1656        Vietnam    VNM           VND     66000.00  23180.0000   \n",
       "1657   South Africa    ZAF           ZAR        31.00     16.6725   \n",
       "\n",
       "      dollar_price  GDP_dollar        date  \n",
       "1655      5.710000   62868.917  2020-07-01  \n",
       "1656      2.847282    2551.123  2020-07-01  \n",
       "1657      1.859349    6353.846  2020-07-01  "
      ],
      "text/html": "<div>\n<style scoped>\n    .dataframe tbody tr th:only-of-type {\n        vertical-align: middle;\n    }\n\n    .dataframe tbody tr th {\n        vertical-align: top;\n    }\n\n    .dataframe thead th {\n        text-align: right;\n    }\n</style>\n<table border=\"1\" class=\"dataframe\">\n  <thead>\n    <tr style=\"text-align: right;\">\n      <th></th>\n      <th>name</th>\n      <th>iso_a3</th>\n      <th>currency_code</th>\n      <th>local_price</th>\n      <th>dollar_ex</th>\n      <th>dollar_price</th>\n      <th>GDP_dollar</th>\n      <th>date</th>\n    </tr>\n  </thead>\n  <tbody>\n    <tr>\n      <th>1655</th>\n      <td>United States</td>\n      <td>USA</td>\n      <td>USD</td>\n      <td>5.71</td>\n      <td>1.0000</td>\n      <td>5.710000</td>\n      <td>62868.917</td>\n      <td>2020-07-01</td>\n    </tr>\n    <tr>\n      <th>1656</th>\n      <td>Vietnam</td>\n      <td>VNM</td>\n      <td>VND</td>\n      <td>66000.00</td>\n      <td>23180.0000</td>\n      <td>2.847282</td>\n      <td>2551.123</td>\n      <td>2020-07-01</td>\n    </tr>\n    <tr>\n      <th>1657</th>\n      <td>South Africa</td>\n      <td>ZAF</td>\n      <td>ZAR</td>\n      <td>31.00</td>\n      <td>16.6725</td>\n      <td>1.859349</td>\n      <td>6353.846</td>\n      <td>2020-07-01</td>\n    </tr>\n  </tbody>\n</table>\n</div>"
     },
     "metadata": {},
     "execution_count": 24
    }
   ],
   "source": [
    "big_mac_2020 = big_mac[big_mac['date']==big_mac['date'].max()]\n",
    "big_mac_2020.tail(3)"
   ]
  },
  {
   "cell_type": "code",
   "execution_count": 25,
   "metadata": {},
   "outputs": [
    {
     "output_type": "execute_result",
     "data": {
      "text/plain": [
       "3.7470335984012655"
      ]
     },
     "metadata": {},
     "execution_count": 25
    }
   ],
   "source": [
    "# look up dollar nominal bic mac price in base currency\n",
    "base_currency = \"KRW\"\n",
    "currency_price = float(big_mac_2020.loc[big_mac_2020[\"currency_code\"]== base_currency, \"dollar_price\"])\n",
    "currency_price"
   ]
  },
  {
   "cell_type": "code",
   "execution_count": 26,
   "metadata": {},
   "outputs": [],
   "source": [
    "# comparing dollar price of Korea to other countries\n",
    "big_mac_2020[\"currency_price\"] = currency_price\n",
    "big_mac_2020[\"percentage_gap\"] = big_mac_2020[\"dollar_price\"] / currency_price - 1"
   ]
  },
  {
   "cell_type": "code",
   "execution_count": 27,
   "metadata": {},
   "outputs": [
    {
     "output_type": "execute_result",
     "data": {
      "text/plain": [
       "               name iso_a3 currency_code  local_price  dollar_ex  \\\n",
       "1655  United States    USA           USD         5.71      1.000   \n",
       "1656        Vietnam    VNM           VND     66000.00  23180.000   \n",
       "1657   South Africa    ZAF           ZAR        31.00     16.672   \n",
       "\n",
       "      dollar_price  GDP_dollar        date  currency_price  percentage_gap  \n",
       "1655         5.710   62868.917  2020-07-01           3.747           0.524  \n",
       "1656         2.847    2551.123  2020-07-01           3.747          -0.240  \n",
       "1657         1.859    6353.846  2020-07-01           3.747          -0.504  "
      ],
      "text/html": "<div>\n<style scoped>\n    .dataframe tbody tr th:only-of-type {\n        vertical-align: middle;\n    }\n\n    .dataframe tbody tr th {\n        vertical-align: top;\n    }\n\n    .dataframe thead th {\n        text-align: right;\n    }\n</style>\n<table border=\"1\" class=\"dataframe\">\n  <thead>\n    <tr style=\"text-align: right;\">\n      <th></th>\n      <th>name</th>\n      <th>iso_a3</th>\n      <th>currency_code</th>\n      <th>local_price</th>\n      <th>dollar_ex</th>\n      <th>dollar_price</th>\n      <th>GDP_dollar</th>\n      <th>date</th>\n      <th>currency_price</th>\n      <th>percentage_gap</th>\n    </tr>\n  </thead>\n  <tbody>\n    <tr>\n      <th>1655</th>\n      <td>United States</td>\n      <td>USA</td>\n      <td>USD</td>\n      <td>5.71</td>\n      <td>1.000</td>\n      <td>5.710</td>\n      <td>62868.917</td>\n      <td>2020-07-01</td>\n      <td>3.747</td>\n      <td>0.524</td>\n    </tr>\n    <tr>\n      <th>1656</th>\n      <td>Vietnam</td>\n      <td>VNM</td>\n      <td>VND</td>\n      <td>66000.00</td>\n      <td>23180.000</td>\n      <td>2.847</td>\n      <td>2551.123</td>\n      <td>2020-07-01</td>\n      <td>3.747</td>\n      <td>-0.240</td>\n    </tr>\n    <tr>\n      <th>1657</th>\n      <td>South Africa</td>\n      <td>ZAF</td>\n      <td>ZAR</td>\n      <td>31.00</td>\n      <td>16.672</td>\n      <td>1.859</td>\n      <td>6353.846</td>\n      <td>2020-07-01</td>\n      <td>3.747</td>\n      <td>-0.504</td>\n    </tr>\n  </tbody>\n</table>\n</div>"
     },
     "metadata": {},
     "execution_count": 27
    }
   ],
   "source": [
    "big_mac_2020 = big_mac_2020.round(decimals = 3)\n",
    "big_mac_2020.tail(3)"
   ]
  },
  {
   "cell_type": "code",
   "execution_count": 28,
   "metadata": {},
   "outputs": [
    {
     "output_type": "execute_result",
     "data": {
      "text/plain": [
       "                      name iso_a3  local_price  dollar_ex  dollar_price  \\\n",
       "1586  United Arab Emirates    ARE        14.75      3.673         4.016   \n",
       "1587             Argentina    ARG       250.00     71.241         3.509   \n",
       "1588             Australia    AUS         6.55      1.431         4.578   \n",
       "1589               Austria    AUT         3.86      0.880         4.388   \n",
       "1590            Azerbaijan    AZE         3.95      1.699         2.325   \n",
       "...                    ...    ...          ...        ...           ...   \n",
       "1653               Ukraine    UKR        59.00     27.130         2.175   \n",
       "1654               Uruguay    URY       189.00     43.675         4.327   \n",
       "1655         United States    USA         5.71      1.000         5.710   \n",
       "1656               Vietnam    VNM     66000.00  23180.000         2.847   \n",
       "1657          South Africa    ZAF        31.00     16.672         1.859   \n",
       "\n",
       "      currency_price  percentage_gap  \n",
       "1586           3.747           0.072  \n",
       "1587           3.747          -0.063  \n",
       "1588           3.747           0.222  \n",
       "1589           3.747           0.171  \n",
       "1590           3.747          -0.380  \n",
       "...              ...             ...  \n",
       "1653           3.747          -0.420  \n",
       "1654           3.747           0.155  \n",
       "1655           3.747           0.524  \n",
       "1656           3.747          -0.240  \n",
       "1657           3.747          -0.504  \n",
       "\n",
       "[72 rows x 7 columns]"
      ],
      "text/html": "<div>\n<style scoped>\n    .dataframe tbody tr th:only-of-type {\n        vertical-align: middle;\n    }\n\n    .dataframe tbody tr th {\n        vertical-align: top;\n    }\n\n    .dataframe thead th {\n        text-align: right;\n    }\n</style>\n<table border=\"1\" class=\"dataframe\">\n  <thead>\n    <tr style=\"text-align: right;\">\n      <th></th>\n      <th>name</th>\n      <th>iso_a3</th>\n      <th>local_price</th>\n      <th>dollar_ex</th>\n      <th>dollar_price</th>\n      <th>currency_price</th>\n      <th>percentage_gap</th>\n    </tr>\n  </thead>\n  <tbody>\n    <tr>\n      <th>1586</th>\n      <td>United Arab Emirates</td>\n      <td>ARE</td>\n      <td>14.75</td>\n      <td>3.673</td>\n      <td>4.016</td>\n      <td>3.747</td>\n      <td>0.072</td>\n    </tr>\n    <tr>\n      <th>1587</th>\n      <td>Argentina</td>\n      <td>ARG</td>\n      <td>250.00</td>\n      <td>71.241</td>\n      <td>3.509</td>\n      <td>3.747</td>\n      <td>-0.063</td>\n    </tr>\n    <tr>\n      <th>1588</th>\n      <td>Australia</td>\n      <td>AUS</td>\n      <td>6.55</td>\n      <td>1.431</td>\n      <td>4.578</td>\n      <td>3.747</td>\n      <td>0.222</td>\n    </tr>\n    <tr>\n      <th>1589</th>\n      <td>Austria</td>\n      <td>AUT</td>\n      <td>3.86</td>\n      <td>0.880</td>\n      <td>4.388</td>\n      <td>3.747</td>\n      <td>0.171</td>\n    </tr>\n    <tr>\n      <th>1590</th>\n      <td>Azerbaijan</td>\n      <td>AZE</td>\n      <td>3.95</td>\n      <td>1.699</td>\n      <td>2.325</td>\n      <td>3.747</td>\n      <td>-0.380</td>\n    </tr>\n    <tr>\n      <th>...</th>\n      <td>...</td>\n      <td>...</td>\n      <td>...</td>\n      <td>...</td>\n      <td>...</td>\n      <td>...</td>\n      <td>...</td>\n    </tr>\n    <tr>\n      <th>1653</th>\n      <td>Ukraine</td>\n      <td>UKR</td>\n      <td>59.00</td>\n      <td>27.130</td>\n      <td>2.175</td>\n      <td>3.747</td>\n      <td>-0.420</td>\n    </tr>\n    <tr>\n      <th>1654</th>\n      <td>Uruguay</td>\n      <td>URY</td>\n      <td>189.00</td>\n      <td>43.675</td>\n      <td>4.327</td>\n      <td>3.747</td>\n      <td>0.155</td>\n    </tr>\n    <tr>\n      <th>1655</th>\n      <td>United States</td>\n      <td>USA</td>\n      <td>5.71</td>\n      <td>1.000</td>\n      <td>5.710</td>\n      <td>3.747</td>\n      <td>0.524</td>\n    </tr>\n    <tr>\n      <th>1656</th>\n      <td>Vietnam</td>\n      <td>VNM</td>\n      <td>66000.00</td>\n      <td>23180.000</td>\n      <td>2.847</td>\n      <td>3.747</td>\n      <td>-0.240</td>\n    </tr>\n    <tr>\n      <th>1657</th>\n      <td>South Africa</td>\n      <td>ZAF</td>\n      <td>31.00</td>\n      <td>16.672</td>\n      <td>1.859</td>\n      <td>3.747</td>\n      <td>-0.504</td>\n    </tr>\n  </tbody>\n</table>\n<p>72 rows × 7 columns</p>\n</div>"
     },
     "metadata": {},
     "execution_count": 28
    }
   ],
   "source": [
    "big_mac_2020[[\"name\", \"iso_a3\", \"local_price\", \"dollar_ex\", \"dollar_price\", \"currency_price\",  \"percentage_gap\"]]"
   ]
  },
  {
   "cell_type": "code",
   "execution_count": 30,
   "metadata": {},
   "outputs": [],
   "source": [
    "big_mac_2020.to_csv(\"./data_wrangled/big_mac_price_level_comparison_2020.csv\", index=False)"
   ]
  },
  {
   "cell_type": "code",
   "execution_count": null,
   "metadata": {},
   "outputs": [],
   "source": []
  },
  {
   "cell_type": "code",
   "execution_count": null,
   "metadata": {},
   "outputs": [],
   "source": []
  }
 ]
}