{
 "metadata": {
  "language_info": {
   "codemirror_mode": {
    "name": "ipython",
    "version": 3
   },
   "file_extension": ".py",
   "mimetype": "text/x-python",
   "name": "python",
   "nbconvert_exporter": "python",
   "pygments_lexer": "ipython3",
   "version": "3.8.1-final"
  },
  "orig_nbformat": 2,
  "kernelspec": {
   "name": "python3",
   "display_name": "Python 3",
   "language": "python"
  }
 },
 "nbformat": 4,
 "nbformat_minor": 2,
 "cells": [
  {
   "source": [
    "Dataset Source: https://www.finder.com/starbucks-index"
   ],
   "cell_type": "markdown",
   "metadata": {}
  },
  {
   "cell_type": "code",
   "execution_count": 2,
   "metadata": {},
   "outputs": [
    {
     "output_type": "stream",
     "name": "stdout",
     "text": [
      "1.0.5\n1.19.4\n"
     ]
    }
   ],
   "source": [
    "import pandas as pd\n",
    "import numpy as np\n",
    "print(pd.__version__)\n",
    "print(np.__version__)"
   ]
  },
  {
   "cell_type": "code",
   "execution_count": 5,
   "metadata": {},
   "outputs": [
    {
     "output_type": "execute_result",
     "data": {
      "text/plain": [
       "    Price_Rank     Country        City  Price_in_USD\n",
       "4            5  Luxembourg  Luxembourg          5.18\n",
       "19          20     Bahrain      Manama          4.20"
      ],
      "text/html": "<div>\n<style scoped>\n    .dataframe tbody tr th:only-of-type {\n        vertical-align: middle;\n    }\n\n    .dataframe tbody tr th {\n        vertical-align: top;\n    }\n\n    .dataframe thead th {\n        text-align: right;\n    }\n</style>\n<table border=\"1\" class=\"dataframe\">\n  <thead>\n    <tr style=\"text-align: right;\">\n      <th></th>\n      <th>Price_Rank</th>\n      <th>Country</th>\n      <th>City</th>\n      <th>Price_in_USD</th>\n    </tr>\n  </thead>\n  <tbody>\n    <tr>\n      <th>4</th>\n      <td>5</td>\n      <td>Luxembourg</td>\n      <td>Luxembourg</td>\n      <td>5.18</td>\n    </tr>\n    <tr>\n      <th>19</th>\n      <td>20</td>\n      <td>Bahrain</td>\n      <td>Manama</td>\n      <td>4.20</td>\n    </tr>\n  </tbody>\n</table>\n</div>"
     },
     "metadata": {},
     "execution_count": 5
    }
   ],
   "source": [
    "coffee_path = \"./data/coffee_2019.csv\"\n",
    "df_starbucks = pd.read_csv(coffee_path)\n",
    "df_starbucks.sample(2)"
   ]
  },
  {
   "cell_type": "code",
   "execution_count": 8,
   "metadata": {},
   "outputs": [
    {
     "output_type": "execute_result",
     "data": {
      "text/plain": [
       "3.88"
      ]
     },
     "metadata": {},
     "execution_count": 8
    }
   ],
   "source": [
    "base_currency_country = \"South Korea\"\n",
    "currency_price = float(df_starbucks.loc[df_starbucks[\"Country\"]== base_currency_country, \"Price_in_USD\"])\n",
    "currency_price"
   ]
  },
  {
   "cell_type": "code",
   "execution_count": 9,
   "metadata": {},
   "outputs": [
    {
     "output_type": "execute_result",
     "data": {
      "text/plain": [
       "    Price_Rank               Country       City  Price_in_USD  \\\n",
       "68          69                Brazil  São Paulo          2.43   \n",
       "17          18  United Arab Emirates      Dubai          4.29   \n",
       "30          31               Ireland     Dublin          3.91   \n",
       "5            6                Norway       Oslo          5.14   \n",
       "\n",
       "    base_currency_price  percentage_gap  \n",
       "68                 3.88       -0.373711  \n",
       "17                 3.88        0.105670  \n",
       "30                 3.88        0.007732  \n",
       "5                  3.88        0.324742  "
      ],
      "text/html": "<div>\n<style scoped>\n    .dataframe tbody tr th:only-of-type {\n        vertical-align: middle;\n    }\n\n    .dataframe tbody tr th {\n        vertical-align: top;\n    }\n\n    .dataframe thead th {\n        text-align: right;\n    }\n</style>\n<table border=\"1\" class=\"dataframe\">\n  <thead>\n    <tr style=\"text-align: right;\">\n      <th></th>\n      <th>Price_Rank</th>\n      <th>Country</th>\n      <th>City</th>\n      <th>Price_in_USD</th>\n      <th>base_currency_price</th>\n      <th>percentage_gap</th>\n    </tr>\n  </thead>\n  <tbody>\n    <tr>\n      <th>68</th>\n      <td>69</td>\n      <td>Brazil</td>\n      <td>São Paulo</td>\n      <td>2.43</td>\n      <td>3.88</td>\n      <td>-0.373711</td>\n    </tr>\n    <tr>\n      <th>17</th>\n      <td>18</td>\n      <td>United Arab Emirates</td>\n      <td>Dubai</td>\n      <td>4.29</td>\n      <td>3.88</td>\n      <td>0.105670</td>\n    </tr>\n    <tr>\n      <th>30</th>\n      <td>31</td>\n      <td>Ireland</td>\n      <td>Dublin</td>\n      <td>3.91</td>\n      <td>3.88</td>\n      <td>0.007732</td>\n    </tr>\n    <tr>\n      <th>5</th>\n      <td>6</td>\n      <td>Norway</td>\n      <td>Oslo</td>\n      <td>5.14</td>\n      <td>3.88</td>\n      <td>0.324742</td>\n    </tr>\n  </tbody>\n</table>\n</div>"
     },
     "metadata": {},
     "execution_count": 9
    }
   ],
   "source": [
    "# comparing dollar price of Korea to other countries\n",
    "df_starbucks[\"base_currency_price\"] = currency_price\n",
    "df_starbucks[\"percentage_gap\"] = df_starbucks[\"Price_in_USD\"] / currency_price - 1\n",
    "df_starbucks.sample(4)"
   ]
  },
  {
   "cell_type": "code",
   "execution_count": 10,
   "metadata": {},
   "outputs": [],
   "source": [
    "year = 2019\n",
    "df_starbucks.to_csv(f\"./data_wrangled/starbucks_latte_price_level_comparison_{year}.csv\", index=False)"
   ]
  },
  {
   "cell_type": "code",
   "execution_count": null,
   "metadata": {},
   "outputs": [],
   "source": []
  }
 ]
}