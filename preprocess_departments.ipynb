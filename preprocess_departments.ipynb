{
 "metadata": {
  "language_info": {
   "codemirror_mode": {
    "name": "ipython",
    "version": 3
   },
   "file_extension": ".py",
   "mimetype": "text/x-python",
   "name": "python",
   "nbconvert_exporter": "python",
   "pygments_lexer": "ipython3",
   "version": "3.8.3-final"
  },
  "orig_nbformat": 2,
  "kernelspec": {
   "name": "python38364bitnlpkor2venvd6ba932570ef4af6b6af5bc7a778a398",
   "display_name": "Python 3.8.3 64-bit ('nlpkor2': venv)",
   "language": "python"
  }
 },
 "nbformat": 4,
 "nbformat_minor": 2,
 "cells": [
  {
   "source": [
    "### Get Frameworks and Custom Modules"
   ],
   "cell_type": "markdown",
   "metadata": {}
  },
  {
   "cell_type": "code",
   "execution_count": 1,
   "metadata": {
    "tags": []
   },
   "outputs": [
    {
     "output_type": "stream",
     "name": "stdout",
     "text": [
      "1.1.0\n1.18.5\n"
     ]
    }
   ],
   "source": [
    "import pandas as pd\n",
    "import numpy as np\n",
    "print(pd.__version__)\n",
    "print(np.__version__)"
   ]
  },
  {
   "cell_type": "code",
   "execution_count": 2,
   "metadata": {},
   "outputs": [
    {
     "output_type": "execute_result",
     "data": {
      "text/plain": [
       "'언론홍보영상학과'"
      ]
     },
     "metadata": {},
     "execution_count": 2
    }
   ],
   "source": [
    "from modules.replace_dep import replace_with_dict, remove_college\n",
    "replace_with_dict(\"언홍영\")"
   ]
  },
  {
   "cell_type": "code",
   "execution_count": 3,
   "metadata": {},
   "outputs": [
    {
     "output_type": "execute_result",
     "data": {
      "text/plain": [
       "''"
      ]
     },
     "metadata": {},
     "execution_count": 3
    }
   ],
   "source": [
    "remove_college(\"사회과학대학\")"
   ]
  },
  {
   "source": [
    "### Making Departments dataset"
   ],
   "cell_type": "markdown",
   "metadata": {}
  },
  {
   "cell_type": "code",
   "execution_count": 4,
   "metadata": {},
   "outputs": [
    {
     "output_type": "execute_result",
     "data": {
      "text/plain": [
       "           대학코드                         제목      학과  과정         년도  BERT_SCORE  \\\n",
       "6712   US000096  인도와도 바꿀 수 없는 Linfield의 추억    경제학과  학부       2015           1   \n",
       "10691  US000247                  누가 유타 구리대  정치외교학과  학부       2011           0   \n",
       "4157   NL000002                 Haagy Days  신문방송학과  학부  2014-2015           1   \n",
       "5502   US000001             Adrian College  노어노문학과  학부       2010           0   \n",
       "3649   JP000011          게이오기주쿠대학 교환 경험보고서    국제학과  학부       2015           1   \n",
       "\n",
       "       RNN_SCORE                                        REVIEW_LINK  \n",
       "6712    0.943709  http://oia.yonsei.ac.kr/partner/expReport.asp?...  \n",
       "10691   0.270900  http://oia.yonsei.ac.kr/partner/expReport.asp?...  \n",
       "4157    0.523097  http://oia.yonsei.ac.kr/partner/expReport.asp?...  \n",
       "5502    0.523097  http://oia.yonsei.ac.kr/partner/expReport.asp?...  \n",
       "3649    0.603903  http://oia.yonsei.ac.kr/partner/expReport.asp?...  "
      ],
      "text/html": "<div>\n<style scoped>\n    .dataframe tbody tr th:only-of-type {\n        vertical-align: middle;\n    }\n\n    .dataframe tbody tr th {\n        vertical-align: top;\n    }\n\n    .dataframe thead th {\n        text-align: right;\n    }\n</style>\n<table border=\"1\" class=\"dataframe\">\n  <thead>\n    <tr style=\"text-align: right;\">\n      <th></th>\n      <th>대학코드</th>\n      <th>제목</th>\n      <th>학과</th>\n      <th>과정</th>\n      <th>년도</th>\n      <th>BERT_SCORE</th>\n      <th>RNN_SCORE</th>\n      <th>REVIEW_LINK</th>\n    </tr>\n  </thead>\n  <tbody>\n    <tr>\n      <th>6712</th>\n      <td>US000096</td>\n      <td>인도와도 바꿀 수 없는 Linfield의 추억</td>\n      <td>경제학과</td>\n      <td>학부</td>\n      <td>2015</td>\n      <td>1</td>\n      <td>0.943709</td>\n      <td>http://oia.yonsei.ac.kr/partner/expReport.asp?...</td>\n    </tr>\n    <tr>\n      <th>10691</th>\n      <td>US000247</td>\n      <td>누가 유타 구리대</td>\n      <td>정치외교학과</td>\n      <td>학부</td>\n      <td>2011</td>\n      <td>0</td>\n      <td>0.270900</td>\n      <td>http://oia.yonsei.ac.kr/partner/expReport.asp?...</td>\n    </tr>\n    <tr>\n      <th>4157</th>\n      <td>NL000002</td>\n      <td>Haagy Days</td>\n      <td>신문방송학과</td>\n      <td>학부</td>\n      <td>2014-2015</td>\n      <td>1</td>\n      <td>0.523097</td>\n      <td>http://oia.yonsei.ac.kr/partner/expReport.asp?...</td>\n    </tr>\n    <tr>\n      <th>5502</th>\n      <td>US000001</td>\n      <td>Adrian College</td>\n      <td>노어노문학과</td>\n      <td>학부</td>\n      <td>2010</td>\n      <td>0</td>\n      <td>0.523097</td>\n      <td>http://oia.yonsei.ac.kr/partner/expReport.asp?...</td>\n    </tr>\n    <tr>\n      <th>3649</th>\n      <td>JP000011</td>\n      <td>게이오기주쿠대학 교환 경험보고서</td>\n      <td>국제학과</td>\n      <td>학부</td>\n      <td>2015</td>\n      <td>1</td>\n      <td>0.603903</td>\n      <td>http://oia.yonsei.ac.kr/partner/expReport.asp?...</td>\n    </tr>\n  </tbody>\n</table>\n</div>"
     },
     "metadata": {},
     "execution_count": 4
    }
   ],
   "source": [
    "df_abstact_wrangle = pd.read_csv(\"data_wrangled/df_abstract_wrangle.csv\", encoding=\"utf-8\")\n",
    "df_abstact_wrangle.sample(5)"
   ]
  },
  {
   "cell_type": "code",
   "execution_count": 5,
   "metadata": {
    "tags": []
   },
   "outputs": [
    {
     "output_type": "stream",
     "name": "stdout",
     "text": [
      "1234 ['사회복지학과/언론홍보영상학부', '건축학과', '경영학과', '경제', '언론홍보영상학', '중어중문학과', '정치외교학과', '행정학과', '경제학부', '언론홍보영상학부']\n"
     ]
    }
   ],
   "source": [
    "departments = list(df_abstact_wrangle[\"학과\"].unique())\n",
    "print(len(departments), departments[:10])"
   ]
  },
  {
   "cell_type": "code",
   "execution_count": 6,
   "metadata": {},
   "outputs": [
    {
     "output_type": "execute_result",
     "data": {
      "text/plain": [
       "False"
      ]
     },
     "metadata": {},
     "execution_count": 6
    }
   ],
   "source": [
    "df_abstact_wrangle[\"학과\"] = df_abstact_wrangle[\"학과\"].fillna(\" \")\n",
    "df_abstact_wrangle[\"학과\"].isnull().values.any()"
   ]
  },
  {
   "cell_type": "code",
   "execution_count": 7,
   "metadata": {
    "tags": []
   },
   "outputs": [
    {
     "output_type": "execute_result",
     "data": {
      "text/plain": [
       "0        2\n",
       "1        1\n",
       "2        1\n",
       "3        1\n",
       "4        1\n",
       "        ..\n",
       "11178    1\n",
       "11179    2\n",
       "11180    1\n",
       "11181    1\n",
       "11182    1\n",
       "Name: 학과, Length: 11183, dtype: int64"
      ]
     },
     "metadata": {},
     "execution_count": 7
    }
   ],
   "source": [
    "# 이중전공 두 개로 쪼개기\n",
    "import re\n",
    "import numpy as np\n",
    "from itertools import chain\n",
    "\n",
    "# return list from series of comma-separated strings\n",
    "def split_double_majors(str):\n",
    "    return re.split(',|/', str)\n",
    "\n",
    "def chainer(series):\n",
    "    # print(series)\n",
    "    return list(chain.from_iterable(series.apply(split_double_majors)))\n",
    "\n",
    "# calculate lengths of splits\n",
    "# lens = df_abstact_wrangle['학과'].str.split('/').map(len)\n",
    "lens = df_abstact_wrangle['학과'].apply(split_double_majors).map(len)\n",
    "lens"
   ]
  },
  {
   "cell_type": "code",
   "execution_count": 8,
   "metadata": {
    "tags": []
   },
   "outputs": [
    {
     "output_type": "execute_result",
     "data": {
      "text/plain": [
       "           대학코드                                  제목           학과  과정  \\\n",
       "0      730                         리투아니아에서 행복했던 4개월       사회복지학과  학부   \n",
       "0      730                         리투아니아에서 행복했던 4개월     언론홍보영상학부  학부   \n",
       "1      AR000004                아르헨티나 교환학생(어학연수프로그램)         건축학과  학부   \n",
       "2      AT000001                 쿠프슈타인에서 노후 50년 땡겨쓰기         경영학과  학부   \n",
       "3      AT000001                     평화로운 쿠프에서의 한 학기           경제  학부   \n",
       "...         ...                                 ...          ...  ..   \n",
       "11179  US000301                 Spring 2019 at Case         경영학과  학부   \n",
       "11179  US000301                 Spring 2019 at Case         심리학과  학부   \n",
       "11180  US000301                Case, 나의 대학생활 최고의 순간     창의기술경영학과  학부   \n",
       "11181  US000303     미국 Liberal Arts College에서의 교환생활  언더우드학부 경제학과  학부   \n",
       "11182  US000400  Dominican University of California           경영  학부   \n",
       "\n",
       "              년도  BERT_SCORE  RNN_SCORE  \\\n",
       "0           2019           1   0.752021   \n",
       "0           2019           1   0.752021   \n",
       "1         2013-1           0   0.399670   \n",
       "2      2017-2018           0   0.416185   \n",
       "3      2017ㅡ2018           1   0.816743   \n",
       "...          ...         ...        ...   \n",
       "11179       2019           1   0.512358   \n",
       "11179       2019           1   0.512358   \n",
       "11180  2017-2018           1   0.699721   \n",
       "11181       2020           0   0.686848   \n",
       "11182       2019           0   0.512358   \n",
       "\n",
       "                                             REVIEW_LINK  \n",
       "0      http://oia.yonsei.ac.kr/partner/expReport.asp?...  \n",
       "0      http://oia.yonsei.ac.kr/partner/expReport.asp?...  \n",
       "1      http://oia.yonsei.ac.kr/partner/expReport.asp?...  \n",
       "2      http://oia.yonsei.ac.kr/partner/expReport.asp?...  \n",
       "3      http://oia.yonsei.ac.kr/partner/expReport.asp?...  \n",
       "...                                                  ...  \n",
       "11179  http://oia.yonsei.ac.kr/partner/expReport.asp?...  \n",
       "11179  http://oia.yonsei.ac.kr/partner/expReport.asp?...  \n",
       "11180  http://oia.yonsei.ac.kr/partner/expReport.asp?...  \n",
       "11181  http://oia.yonsei.ac.kr/partner/expReport.asp?...  \n",
       "11182  http://oia.yonsei.ac.kr/partner/expReport.asp?...  \n",
       "\n",
       "[11740 rows x 8 columns]"
      ],
      "text/html": "<div>\n<style scoped>\n    .dataframe tbody tr th:only-of-type {\n        vertical-align: middle;\n    }\n\n    .dataframe tbody tr th {\n        vertical-align: top;\n    }\n\n    .dataframe thead th {\n        text-align: right;\n    }\n</style>\n<table border=\"1\" class=\"dataframe\">\n  <thead>\n    <tr style=\"text-align: right;\">\n      <th></th>\n      <th>대학코드</th>\n      <th>제목</th>\n      <th>학과</th>\n      <th>과정</th>\n      <th>년도</th>\n      <th>BERT_SCORE</th>\n      <th>RNN_SCORE</th>\n      <th>REVIEW_LINK</th>\n    </tr>\n  </thead>\n  <tbody>\n    <tr>\n      <th>0</th>\n      <td>730</td>\n      <td>리투아니아에서 행복했던 4개월</td>\n      <td>사회복지학과</td>\n      <td>학부</td>\n      <td>2019</td>\n      <td>1</td>\n      <td>0.752021</td>\n      <td>http://oia.yonsei.ac.kr/partner/expReport.asp?...</td>\n    </tr>\n    <tr>\n      <th>0</th>\n      <td>730</td>\n      <td>리투아니아에서 행복했던 4개월</td>\n      <td>언론홍보영상학부</td>\n      <td>학부</td>\n      <td>2019</td>\n      <td>1</td>\n      <td>0.752021</td>\n      <td>http://oia.yonsei.ac.kr/partner/expReport.asp?...</td>\n    </tr>\n    <tr>\n      <th>1</th>\n      <td>AR000004</td>\n      <td>아르헨티나 교환학생(어학연수프로그램)</td>\n      <td>건축학과</td>\n      <td>학부</td>\n      <td>2013-1</td>\n      <td>0</td>\n      <td>0.399670</td>\n      <td>http://oia.yonsei.ac.kr/partner/expReport.asp?...</td>\n    </tr>\n    <tr>\n      <th>2</th>\n      <td>AT000001</td>\n      <td>쿠프슈타인에서 노후 50년 땡겨쓰기</td>\n      <td>경영학과</td>\n      <td>학부</td>\n      <td>2017-2018</td>\n      <td>0</td>\n      <td>0.416185</td>\n      <td>http://oia.yonsei.ac.kr/partner/expReport.asp?...</td>\n    </tr>\n    <tr>\n      <th>3</th>\n      <td>AT000001</td>\n      <td>평화로운 쿠프에서의 한 학기</td>\n      <td>경제</td>\n      <td>학부</td>\n      <td>2017ㅡ2018</td>\n      <td>1</td>\n      <td>0.816743</td>\n      <td>http://oia.yonsei.ac.kr/partner/expReport.asp?...</td>\n    </tr>\n    <tr>\n      <th>...</th>\n      <td>...</td>\n      <td>...</td>\n      <td>...</td>\n      <td>...</td>\n      <td>...</td>\n      <td>...</td>\n      <td>...</td>\n      <td>...</td>\n    </tr>\n    <tr>\n      <th>11179</th>\n      <td>US000301</td>\n      <td>Spring 2019 at Case</td>\n      <td>경영학과</td>\n      <td>학부</td>\n      <td>2019</td>\n      <td>1</td>\n      <td>0.512358</td>\n      <td>http://oia.yonsei.ac.kr/partner/expReport.asp?...</td>\n    </tr>\n    <tr>\n      <th>11179</th>\n      <td>US000301</td>\n      <td>Spring 2019 at Case</td>\n      <td>심리학과</td>\n      <td>학부</td>\n      <td>2019</td>\n      <td>1</td>\n      <td>0.512358</td>\n      <td>http://oia.yonsei.ac.kr/partner/expReport.asp?...</td>\n    </tr>\n    <tr>\n      <th>11180</th>\n      <td>US000301</td>\n      <td>Case, 나의 대학생활 최고의 순간</td>\n      <td>창의기술경영학과</td>\n      <td>학부</td>\n      <td>2017-2018</td>\n      <td>1</td>\n      <td>0.699721</td>\n      <td>http://oia.yonsei.ac.kr/partner/expReport.asp?...</td>\n    </tr>\n    <tr>\n      <th>11181</th>\n      <td>US000303</td>\n      <td>미국 Liberal Arts College에서의 교환생활</td>\n      <td>언더우드학부 경제학과</td>\n      <td>학부</td>\n      <td>2020</td>\n      <td>0</td>\n      <td>0.686848</td>\n      <td>http://oia.yonsei.ac.kr/partner/expReport.asp?...</td>\n    </tr>\n    <tr>\n      <th>11182</th>\n      <td>US000400</td>\n      <td>Dominican University of California</td>\n      <td>경영</td>\n      <td>학부</td>\n      <td>2019</td>\n      <td>0</td>\n      <td>0.512358</td>\n      <td>http://oia.yonsei.ac.kr/partner/expReport.asp?...</td>\n    </tr>\n  </tbody>\n</table>\n<p>11740 rows × 8 columns</p>\n</div>"
     },
     "metadata": {},
     "execution_count": 8
    }
   ],
   "source": [
    "# create new dataframe, repeating or chaining as appropriate\n",
    "res = pd.DataFrame({'대학코드': np.repeat(df_abstact_wrangle['대학코드'], lens),\n",
    "                    '제목': np.repeat(df_abstact_wrangle['제목'], lens),\n",
    "                    '학과': chainer(df_abstact_wrangle['학과']),\n",
    "                    '과정': np.repeat(df_abstact_wrangle['과정'], lens),\n",
    "                    '년도': np.repeat(df_abstact_wrangle['년도'], lens),\n",
    "                    'BERT_SCORE': np.repeat(df_abstact_wrangle['BERT_SCORE'], lens),\n",
    "                    'RNN_SCORE': np.repeat(df_abstact_wrangle['RNN_SCORE'], lens),\n",
    "                    'REVIEW_LINK': np.repeat(df_abstact_wrangle['REVIEW_LINK'], lens),})\n",
    "res"
   ]
  },
  {
   "cell_type": "code",
   "execution_count": 9,
   "metadata": {},
   "outputs": [
    {
     "output_type": "execute_result",
     "data": {
      "text/plain": [
       "       대학코드        학과                                        REVIEW_LINK\n",
       "0  730         사회복지학과  http://oia.yonsei.ac.kr/partner/expReport.asp?...\n",
       "0  730       언론홍보영상학부  http://oia.yonsei.ac.kr/partner/expReport.asp?...\n",
       "1  AR000004      건축학과  http://oia.yonsei.ac.kr/partner/expReport.asp?...\n",
       "2  AT000001      경영학과  http://oia.yonsei.ac.kr/partner/expReport.asp?...\n",
       "3  AT000001        경제  http://oia.yonsei.ac.kr/partner/expReport.asp?..."
      ],
      "text/html": "<div>\n<style scoped>\n    .dataframe tbody tr th:only-of-type {\n        vertical-align: middle;\n    }\n\n    .dataframe tbody tr th {\n        vertical-align: top;\n    }\n\n    .dataframe thead th {\n        text-align: right;\n    }\n</style>\n<table border=\"1\" class=\"dataframe\">\n  <thead>\n    <tr style=\"text-align: right;\">\n      <th></th>\n      <th>대학코드</th>\n      <th>학과</th>\n      <th>REVIEW_LINK</th>\n    </tr>\n  </thead>\n  <tbody>\n    <tr>\n      <th>0</th>\n      <td>730</td>\n      <td>사회복지학과</td>\n      <td>http://oia.yonsei.ac.kr/partner/expReport.asp?...</td>\n    </tr>\n    <tr>\n      <th>0</th>\n      <td>730</td>\n      <td>언론홍보영상학부</td>\n      <td>http://oia.yonsei.ac.kr/partner/expReport.asp?...</td>\n    </tr>\n    <tr>\n      <th>1</th>\n      <td>AR000004</td>\n      <td>건축학과</td>\n      <td>http://oia.yonsei.ac.kr/partner/expReport.asp?...</td>\n    </tr>\n    <tr>\n      <th>2</th>\n      <td>AT000001</td>\n      <td>경영학과</td>\n      <td>http://oia.yonsei.ac.kr/partner/expReport.asp?...</td>\n    </tr>\n    <tr>\n      <th>3</th>\n      <td>AT000001</td>\n      <td>경제</td>\n      <td>http://oia.yonsei.ac.kr/partner/expReport.asp?...</td>\n    </tr>\n  </tbody>\n</table>\n</div>"
     },
     "metadata": {},
     "execution_count": 9
    }
   ],
   "source": [
    "df_department = res[[\"대학코드\", \"학과\", \"REVIEW_LINK\"]]\n",
    "df_department.head()"
   ]
  },
  {
   "source": [
    "### Preprocessing Department names"
   ],
   "cell_type": "markdown",
   "metadata": {}
  },
  {
   "cell_type": "code",
   "execution_count": 10,
   "metadata": {},
   "outputs": [
    {
     "output_type": "execute_result",
     "data": {
      "text/plain": [
       "       대학코드        학과                                        REVIEW_LINK\n",
       "0  730         사회복지학과  http://oia.yonsei.ac.kr/partner/expReport.asp?...\n",
       "0  730       언론홍보영상학과  http://oia.yonsei.ac.kr/partner/expReport.asp?...\n",
       "1  AR000004     건축공학과  http://oia.yonsei.ac.kr/partner/expReport.asp?...\n",
       "2  AT000001      경영학과  http://oia.yonsei.ac.kr/partner/expReport.asp?...\n",
       "3  AT000001      경제학과  http://oia.yonsei.ac.kr/partner/expReport.asp?..."
      ],
      "text/html": "<div>\n<style scoped>\n    .dataframe tbody tr th:only-of-type {\n        vertical-align: middle;\n    }\n\n    .dataframe tbody tr th {\n        vertical-align: top;\n    }\n\n    .dataframe thead th {\n        text-align: right;\n    }\n</style>\n<table border=\"1\" class=\"dataframe\">\n  <thead>\n    <tr style=\"text-align: right;\">\n      <th></th>\n      <th>대학코드</th>\n      <th>학과</th>\n      <th>REVIEW_LINK</th>\n    </tr>\n  </thead>\n  <tbody>\n    <tr>\n      <th>0</th>\n      <td>730</td>\n      <td>사회복지학과</td>\n      <td>http://oia.yonsei.ac.kr/partner/expReport.asp?...</td>\n    </tr>\n    <tr>\n      <th>0</th>\n      <td>730</td>\n      <td>언론홍보영상학과</td>\n      <td>http://oia.yonsei.ac.kr/partner/expReport.asp?...</td>\n    </tr>\n    <tr>\n      <th>1</th>\n      <td>AR000004</td>\n      <td>건축공학과</td>\n      <td>http://oia.yonsei.ac.kr/partner/expReport.asp?...</td>\n    </tr>\n    <tr>\n      <th>2</th>\n      <td>AT000001</td>\n      <td>경영학과</td>\n      <td>http://oia.yonsei.ac.kr/partner/expReport.asp?...</td>\n    </tr>\n    <tr>\n      <th>3</th>\n      <td>AT000001</td>\n      <td>경제학과</td>\n      <td>http://oia.yonsei.ac.kr/partner/expReport.asp?...</td>\n    </tr>\n  </tbody>\n</table>\n</div>"
     },
     "metadata": {},
     "execution_count": 10
    }
   ],
   "source": [
    "# apply preprocessing module\n",
    "df_department[\"학과\"] = df_department[\"학과\"].apply(lambda x: remove_college(x))\n",
    "df_department[\"학과\"] = df_department[\"학과\"].apply(lambda x: replace_with_dict(x))\n",
    "df_department.head()"
   ]
  },
  {
   "cell_type": "code",
   "execution_count": 11,
   "metadata": {},
   "outputs": [
    {
     "output_type": "stream",
     "name": "stdout",
     "text": [
      "Counter({'경영학과': 2337, '영어영문학과': 960, '경제학과': 887, '정치외교학과': 610, '언론홍보영상학과': 564, '심리학과': 376, '행정학과': 245, '사회학과': 235, '중어중문학과': 209, '응용통계학과': 207, '전기전자공학과': 203, '교육학과': 200, '국어국문학과': 171, '불어불문학과': 168, '사학과': 156, '의류환경학과': 152, '상경계열': 138, '건축공학과': 137, '독어독문학과': 131, '노어노문학과': 120, '생활디자인학과': 114, '인문학부': 109, '기계공학과': 100, '생명공학과': 96, '사회복지학과': 90, '철학과': 89, '문화인류학과': 79, '법학과': 76, '정보산업공학과': 70, '문헌정보학과': 69, '신소재공학과\\x1d': 69, '수학과': 61, '화공생명공학과': 60, 'UIC': 59, '신학과': 57, '식품영양학과': 55, '아동가족학과': 55, '화학과': 53, '컴퓨터과학과': 49, '도시공학과': 47, '의예과': 45, '주거환경학과': 45, '실내건축학과': 44, '의공학부': 44, '': 41, '언더우드': 41, '스포츠레저학과': 40, '동아시아국제학부': 39, '생화학과': 38, '국제학과': 36, '토목환경공학과': 35, '화학공학과': 33, '물리학과': 30, '국제학대학원': 28, '주거환경': 24, '유럽어문학부': 24, '국제관계학과': 24, '기계전자공학부': 21, 'Underwood International College': 21, '천문우주학과': 20, '체육교육학과': 20, '시스템생물학과': 19, '문헌정보학': 18, '문화디자인경영': 18, '언더우드학부 경제학과': 18, '간호학과': 17, '대기과학과': 17, '산업공학과': 17, '생물학과': 16, '아시아학과': 16, '언더우드국제학부': 15, '지구시스템과학과': 15, '컴퓨터·산업공학': 14, '보건행정학과': 14, '아동가족': 13, '식품영양': 12, '컴퓨터과학': 12, 'GSIS': 12, '생활과학부': 12, '아시아학부': 12, '생화학': 11, '화학공학': 11, '국제학부': 11, 'UIC 경제학과': 11, 'EIC': 10, '창의기술경영': 10, '창의기술경영학과': 10, 'UIC 경제': 10, '국제관계학': 10, 'UIC 국제학과': 10, '생물학': 9, '비교문학과문화': 9, '언더우드 국제학부': 9, '문화디자인경영학과': 9, '문헌정보': 8, '작곡과': 8, '국제통상': 8, '언더우드학부 국제학과': 8, '화공생명공학': 8, '일반대학원': 8, '계량위험관리': 8, '도시공학': 8, '언더우드 경제학과': 8, '국제학': 8, '언더우드학부 경제학': 7, '사회환경시스템공학부': 7, '사회환경건축공학부': 7, '신학': 7, '언더우드 국제학과': 7, '화학': 7, '원 국제통상': 7, '사회체육학과': 6, '스포츠응용산업학과': 6, '언더우드 경제학': 6, '언더우드  국제학과': 6, '생명과학': 6, '법': 6, '테크노아트학부': 6, '국제통상학과': 6, '언더우드학부 정치외교학과': 6, '세라믹공학': 6, 'UD Econ': 6, '언더우드학부': 5, '임상병리학과': 5, '글로벌인재학부': 5, '자연과학부': 5, 'International Studies': 5, '아동·가족': 5, '바이오융합': 5, '언더우드 정치외교학과': 5, '법과대학': 5, '사회계열': 5, 'Economics': 5, '언더우드  경제학과': 5, '의용전자공학과': 5, '나노과학공학과': 5, '의공학과': 5, 'UIC PSIR': 5, '세라믹공학과': 5, 'UIC Economics': 5, 'UD 경제학과': 5, 'Comparative Literature and Culture': 5, '컴퓨터산업공학': 5, '작업치료학과': 5, '정보통계학과': 5, '언더우드 문화디자인경영': 4, '글로벌행정학과': 4, '물리치료학과': 4, 'UIC경제학과': 4, '생명과학과': 4, '국제협력': 4, 'UD ECON': 4, '지속개발협력학과': 4, 'ASD': 4, 'UIC ECON': 4, '컴퓨터·산업공학부': 4, '생명과학공학': 4, 'UIC 문화디자인경영': 4, '정보인터렉션디자인': 4, 'UIC 정치외교학과': 4, '국제학부 경제학과': 4, 'UIC CTM': 4, '역사문화학과': 4, '컴퓨터산업공학부': 4, 'UIC 아시아학': 4, '컴퓨터산업공학과': 4, '환경공학': 4, '아동가족학': 4, '언더우드 경제': 3, '상경계열 경영학과': 3, '실내건축': 3, '치의예과': 3, '컴퓨터 과학과': 3, 'EESE': 3, '생물자원공학': 3, 'UIC 아시아학과': 3, '의용전자공학': 3, '의공학': 3, '언더우드 아시아학부': 3, 'Underwood Division': 3, 'PSIR': 3, '정보인터랙션디자인학과': 3, '국제학대학원 국제통상': 3, 'UIC 비교문학': 3, '환경공학부': 3, '역사문화학': 3, '패키징학과': 3, 'UIC 창의기술경영': 3, '언더우드국제학과': 3, '언더우드 정치외교': 3, 'UIC CLC': 3, 'CTM': 3, '언더우드 국제학': 3, 'UIC ASD': 3, 'ECON': 3, '아시아학': 3, '환경공학과': 3, '동아시아 국제학부': 3, '토목공학과': 3, '국제경영': 3, 'UIC 국제학': 3, '국제학대학원 국제협력': 3, 'CDM': 3, 'UIC QRM': 3, '천문우주학': 2, '화공생명공학부': 2, 'Information and Interaction Design': 2, '외교통상학과': 2, '정보인터랙션디자인': 2, '언더우드 계량위험관리': 2, '컴퓨터공학': 2, 'Psychology': 2, '국제학대학원 국제경영': 2, '정보인터렉션디자인학과': 2, 'UIC 생명과학공학': 2, '일반대학원 지역학협동과정': 2, '언더우드국제학부 경제학과': 2, '에너지환경융합(EESE)': 2, 'Quantitative Risk Management': 2, '비교문학과문화과': 2, '비교문학과 문화': 2, '계량위험관리(QRM)': 2, '나노과학공학': 2, 'UIC IS': 2, 'UIC International Studies': 2, 'Asian Studies': 2, '언더우드  아시아학과': 2, '이과대학 화학과': 2, 'QRM(계량위험관리학과)': 2, '재료공학부': 2, '대학원': 2, '글로벌인재학부 한국문화과': 2, '비교문학과 문화과': 2, '토목환경공학': 2, '일본학': 2, '사회체육과': 2, '지속개발협력과': 2, 'HASS': 2, 'Culture and Design Management': 2, 'UIC 경제학': 2, 'UIC 아시아학부': 2, 'GLD': 2, 'UD - Economics': 2, 'Creative Technology Management': 2, '원': 2, '국제관계': 2, 'UD': 2, '컴퓨터 산업공학': 2, '작업치료': 2, 'UIC-정치외교학': 2, 'UIC 정치외교학': 2, 'UD 경제학': 2, '언더우드  경제학': 2, '대기과학': 2, '언더우드 아시아학과': 2, '상경계열 경영': 2, '원 국제협력': 2, '국제학 대학원 국제경영': 2, '체육교육과': 2, '글로벌행정': 2, '통계학과': 2, 'UIC 생명공학': 2, '기악과': 2, '언더우드 경제학부': 2, '컴퓨터': 2, '언더우드국제학과 (국제학)': 1, '문화경영디자인학과': 1, '화공·생명공학부': 1, '화공학과': 1, 'UD 국제학과': 1, '언더우드 아시아학': 1, '이과대학 생물학': 1, 'Economics (UIC)': 1, '바이오융합과': 1, 'UIC - PSIR': 1, 'UIC 문학과 문화학': 1, 'TAD (IID & CDM)': 1, '컴퓨터.산업공학과': 1, '황지현': 1, '식품영양학': 1, 'International Trade': 1, 'Finance and Management': 1, '기계전자공학부 전기전자': 1, '법무대학원': 1, '언더우드국제학부 계량위험관리': 1, '언더우드학과 ud': 1, '정보인터렉션디자인과': 1, '언더우드 국제학부 비교문학과 문화과': 1, 'UIC(Quantitativive Risk Management)': 1, '언더우드학부 생명과학공학과': 1, '국제학 대학원': 1, '정경대학 국제관계학과': 1, '지속개발협력': 1, '언더우드학부- 정치외교학과 (PSIR)': 1, '국제학부 HASS SDC(지속개발협력)': 1, '언더우드학부-국제학 (UD-IS)': 1, '언더우드 국제학부 경제학과': 1, '국제학부 PSIR': 1, '동아시아국제학부(EIC)': 1, 'International studies': 1, 'Energy& Environmental Science Engineering': 1, '글로벌엘리트학부': 1, '토목환경': 1, '경영전문대학교 GMBA': 1, '언더우드학과': 1, '아시아': 1, '테크노아트학부 CDM': 1, 'UIC국제학과': 1, '언더우드국제학부 비교문학문화과': 1, 'Social Sciences': 1, '연세 언더우드 국제학부': 1, '세라믹 공학과': 1, '연세대학교 경영학과': 1, '언더우드 인문사회학부': 1, '문리대학 생명과학과': 1, 'philosophie': 1, '비교문학문화': 1, '에너지환경융합학과': 1, 'UIC 생명과학공학과': 1, 'UIC 테크노아트학부': 1, 'Comparative Literature & Culture': 1, '비교문학': 1, '에너지환경융합공학': 1, '국제학과 (International Studies)': 1, 'Underwood International College - Economics': 1, 'UIC - Economics': 1, 'UIC Political Science and International Relatoins': 1, '언더우드 사회정의러더십': 1, '경영학과 이중': 1, '심리학이중': 1, '토목*환경공학과': 1, '문화 디자인 경영': 1, '식품': 1, '원 국제경영': 1, 'UIC 문화디자인경영학과': 1, '문헌정보학과(복수 불어불문)': 1, '창의기술학과': 1, '도시토목공학과': 1, '언더우드  지속개발협력': 1, '국제통상학': 1, '언더우드대학 정치외교학': 1, '신과대학 신학과': 1, 'Well-being Tel. Room 315': 1, 'Seodaemungu': 1, 'Changcheondong': 1, '52-134': 1, 'Seoul': 1, '에너지환경공학과': 1, '테크노아트학과': 1, '문화비평학': 1, '국제학부 국제학과': 1, 'Bio-Convergence': 1, '-정치외교학과': 1, 'UIC Information and Interaction Design Major': 1, '국제학부 국제학': 1, '언더우드국제학부 (UIC)': 1, '컴퓨터 산업공학과': 1, '언더우드학부 국제학': 1, '사회정의리더십': 1, 'UIC 비교문학과문화': 1, '테크노아트학과 문화디자인경영': 1, '국제학부 비교문학과문화': 1, '언더우드 계량위험관리학': 1, 'UIC HASS CDM': 1, 'JCL': 1, 'International Commerce': 1, 'Yonsei university': 1, 'International Trade & Finance': 1, 'ISED': 1, '시각디자인학과': 1, '화학 및 의화학과': 1, '원주캠퍼스 정경대학 국제관계학과': 1, '문리대학 영어영문학과': 1, '국제학대학원 지역학': 1, '언더우드비교문학과문화': 1, '정보통신공학과': 1, '패키징학': 1, 'Global Elite Department': 1, '전산학': 1, '글로벌인재학부 한국문화·통상': 1, '언더우드 계량위험관리과': 1, \"Underwood Int'l College\": 1, '언더우드 언더우드학부': 1, 'UIC 언더우드': 1, '일반대학원 법학과': 1, '사회계열 신문방송학과': 1, '국제학부_정치외교학과': 1, 'Underwood International College - Underwood Division': 1, '정보기술학부': 1, '교육대학원': 1, 'GSIS 국제통상': 1, '연계 일본학': 1, '원주캠퍼스 경영학과': 1, '정경대학 국제관계학': 1, '일반대학원 한국합협동과정': 1, '산업디자인학': 1, '보건과학대학 보건행정학과': 1, 'Underwood PSIR': 1, '언더우드 정보인터렉션디자인학과': 1, '언더우드국제학부 비교문학과 문화': 1, 'UIC - 경제': 1, 'UIC-경제': 1, 'School of Economics': 1, '문화디자인경영(UIC)': 1, '언론홍보영상학부`': 1, 'International Studies Division': 1, 'UIC 정외과 - 교환 언론홍보학 수강': 1, '윤석기': 1, '글로벌인새대학': 1, '언더우드 정치외교학': 1, '언더우드 국제학부 국제학': 1, 'Graduate School of International Studies': 1, '영어영문학 및 문화비평학': 1, 'Applied Statistics': 1, 'TAD (IID)': 1, 'UIC IID': 1, '언더우드경제학과': 1, '지구시스템과학': 1, 'UD-Economics': 1, '글로벌인재학과': 1, 'Peace and Conflict studies': 1, '컴퓨터정보통신공학': 1, '2012121230': 1, '컴퓨터과학솨': 1, '글로벌 엘리트': 1, '언더우드 에너지환경융합과': 1, '테크노아트학부(TAD)': 1, '컴퓨터산공공학과': 1, '언더우드 창의기술경영하고가': 1, '과학기술정책': 1, '이과대학': 1, '언더우드 생명과학공학과': 1, '계량위험관리학과': 1, 'UD International Studies': 1, '언더우드 국제학부 경제학': 1, '사회환경 건축공학부': 1, '글로벌인재대학': 1, 'GLC': 1, 'UIC - International Studies': 1, '글로벌인재학부 한국문화': 1, '글로벌인재학부 한국문화통상 한국언어문화교육': 1, 'Justice and Civil Leadership (UIC)': 1, '언더우드 비교문학과문화': 1, 'UIC-ASD': 1, 'UIC 언더우드국제학과': 1, '신학과&경제학과': 1, '바이오융합학과': 1, '1020011': 1, '의예': 1, 'Business Administration': 1, 'GSIS PIC': 1, '언어병리학과': 1, '토목환경공학부': 1, '작곡': 1, '체육교육': 1, '문정과': 1, '철학과 사회학과': 1, '기악': 1, '국제학부 비교문학과문화과': 1, '비교문학과문화학': 1, 'UIC-CLC': 1, 'Underwood International College (UIC)': 1, '문화비평학 연계': 1, 'UD CLC': 1, 'UD 국제학': 1, 'UIC UD': 1, 'UIC_UD': 1, '국제개발협력': 1, 'UIC 정치외교': 1, '의용공학과': 1, '행정학과 (경영학 이중)': 1, '교육학과 (영문학 이중)': 1, '교': 1, 'UD경제학과': 1, 'UIC Comparative Literature & Culture': 1, '커뮤니케이션 대학원': 1, '보건과학대학 의용전자공학과': 1, 'Underwood International College- Economics': 1, '디자인예술학부': 1, '정보 인터랙션 디자인': 1, '응용생명과학과': 1, '주건환경학과': 1, '언더우드  생명공학과': 1, '사복': 1, '사회체육': 1, '국제학부 계량위험관리QRM': 1, '컴퓨터. 산업공학': 1, '글로벌엘리트 학부': 1, '교회음악과': 1, '교육대학원 영어교육학과': 1, 'UIC 경제과': 1, '시스템 생물학과': 1, '인지과학 협동과정': 1, 'GSIS IMP': 1, '생명과학공학과': 1, 'UD 경제': 1, 'Gender Studies(파견교)': 1, 'UIC UD 경제학과': 1, 'uic 경제학과': 1, '시스템생물학': 1, '약학과': 1, '컴퓨터.산업공학': 1, '생명과학공학부': 1, '언더우드 국제학과 비교문학과문화': 1, 'ECONOMICS & BUSINESS': 1, '학부대학': 1, '이과대학 물리학과': 1, 'UIC-Economics': 1, '언더우드 나노과학공학과': 1, 'TAD': 1, '테크노아트': 1, '철학과 (파견학과는 Drama)': 1, '산업디자인학과': 1, '생물': 1, '법학과(경영이중)': 1, '신문방송학 & 정치외교학': 1, '서양사학': 1, '이과대학 생화학과': 1, '글로벌인제학부': 1, 'UD PSIR': 1, '컴퓨터정보통신공학부': 1, '보건행정학': 1, '심리학 이중': 1, '도시 환경 공학과': 1, 'Comparative Literature and Culture (UIC)': 1, '국제': 1, 'Underwood International': 1, '비교문학과': 1, '통계학': 1, '언더우드 국제학부 (국제학)': 1, 'Electrical Engineering': 1, '영상디자인': 1, '경영-경제 이중': 1, 'School of Business': 1, '동아시아국제학과': 1, 'Underwood International College; International Studies Major': 1, '문화 & 미디어': 1, 'East Asia International College': 1, '융합과학공학부': 1, '국제관계확과': 1, '통계': 1, '구세현': 1, 'Politics': 1, '언더우드 국제 대학': 1, '언더우드 바이오융합과': 1, 'SDC': 1, '창의기술경영학과 (CTM)': 1, 'UIC JCL': 1, 'UD IS': 1, 'Bio Convergence': 1, 'UIC HASS JCL': 1, 'Techno-Art Division': 1, 'UIC Bio-Convergence': 1, '원주캠퍼스 의공학부': 1, '디지털예술학': 1, '국제학부 정치외교학': 1, 'economics': 1, 'UIC 비교문학과 문화': 1, 'UIC정치외교학과': 1, '이과대학 의예과': 1, '인지과학협동과정': 1, '..': 1, '언더우드학부 국제학과 (IS)': 1, '언더우드학부 생명과학공학': 1, '국제학부 정치외교학과': 1, '언더우드  국제학': 1, '언더우드 정외과': 1, '언더우드 생명과학': 1, '주거환경 & 아동가족': 1, '재활의학': 1, '의학과': 1, 'UIC economics': 1, 'Underwood International College Comparative Literature and Culture': 1, '토목환경시스템': 1, '산업시스템 공학': 1, '컴퓨터과학(복수)': 1, 'UIC-국제학': 1, 'UIC LSBT': 1, 'UIC-LSBT': 1, '외교통상': 1, 'UD-ECON': 1, '디자인': 1, '교육학과(영어영문 이중)': 1, 'UIC_CTM': 1, '연세원': 1, 'Area Study': 1, '언어병리학협동과정': 1, 'UIC UD ECON': 1, 'LSBT': 1, '언더우드 문화디자인경영학과': 1})\n"
     ]
    }
   ],
   "source": [
    "from collections import Counter\n",
    "print(Counter(df_department[\"학과\"]))\n",
    "# print(Counter(temp))"
   ]
  },
  {
   "cell_type": "code",
   "execution_count": 12,
   "metadata": {},
   "outputs": [],
   "source": [
    "from math import nan\n",
    "\n",
    "departments = df_department[\"학과\"].unique()\n",
    "# departments = temp.unique()\n",
    "\n",
    "korean_deparments = []\n",
    "english_departments = []\n",
    "for department in departments:\n",
    "    if type(department) == float:\n",
    "        pass\n",
    "    elif not re.search(r'[a-zA-Z]', department):\n",
    "        korean_deparments.append(department)\n",
    "    else:\n",
    "        english_departments.append(department)\n"
   ]
  },
  {
   "cell_type": "code",
   "execution_count": 13,
   "metadata": {
    "tags": []
   },
   "outputs": [
    {
     "output_type": "stream",
     "name": "stdout",
     "text": [
      "412 ['', '-정치외교학과', '..', '1020011', '2012121230', '52-134', '간호학과', '건축공학과', '경영-경제 이중', '경영학과', '경영학과 이중', '경제학과', '계량위험관리', '계량위험관리학과', '과학기술정책', '교', '교육대학원', '교육대학원 영어교육학과', '교육학과', '교육학과 (영문학 이중)', '교육학과(영어영문 이중)', '교회음악과', '구세현', '국어국문학과', '국제', '국제개발협력', '국제경영', '국제관계', '국제관계학', '국제관계학과', '국제관계확과', '국제통상', '국제통상학', '국제통상학과', '국제학', '국제학 대학원', '국제학 대학원 국제경영', '국제학과', '국제학대학원', '국제학대학원 국제경영', '국제학대학원 국제통상', '국제학대학원 국제협력', '국제학대학원 지역학', '국제학부', '국제학부 경제학과', '국제학부 국제학', '국제학부 국제학과', '국제학부 비교문학과문화', '국제학부 비교문학과문화과', '국제학부 정치외교학', '국제학부 정치외교학과', '국제학부_정치외교학과', '국제협력', '글로벌 엘리트', '글로벌엘리트 학부', '글로벌엘리트학부', '글로벌인새대학', '글로벌인재대학', '글로벌인재학과', '글로벌인재학부', '글로벌인재학부 한국문화', '글로벌인재학부 한국문화·통상', '글로벌인재학부 한국문화과', '글로벌인재학부 한국문화통상 한국언어문화교육', '글로벌인제학부', '글로벌행정', '글로벌행정학과', '기계공학과', '기계전자공학부', '기계전자공학부 전기전자', '기악', '기악과', '나노과학공학', '나노과학공학과', '노어노문학과', '대기과학', '대기과학과', '대학원', '도시 환경 공학과', '도시공학', '도시공학과', '도시토목공학과', '독어독문학과', '동아시아 국제학부', '동아시아국제학과', '동아시아국제학부', '디자인', '디자인예술학부', '디지털예술학', '문리대학 생명과학과', '문리대학 영어영문학과', '문정과', '문헌정보', '문헌정보학', '문헌정보학과', '문헌정보학과(복수 불어불문)', '문화 & 미디어', '문화 디자인 경영', '문화경영디자인학과', '문화디자인경영', '문화디자인경영학과', '문화비평학', '문화비평학 연계', '문화인류학과', '물리치료학과', '물리학과', '바이오융합', '바이오융합과', '바이오융합학과', '법', '법과대학', '법무대학원', '법학과', '법학과(경영이중)', '보건과학대학 보건행정학과', '보건과학대학 의용전자공학과', '보건행정학', '보건행정학과', '불어불문학과', '비교문학', '비교문학과', '비교문학과 문화', '비교문학과 문화과', '비교문학과문화', '비교문학과문화과', '비교문학과문화학', '비교문학문화', '사복', '사학과', '사회계열', '사회계열 신문방송학과', '사회복지학과', '사회정의리더십', '사회체육', '사회체육과', '사회체육학과', '사회학과', '사회환경 건축공학부', '사회환경건축공학부', '사회환경시스템공학부', '산업공학과', '산업디자인학', '산업디자인학과', '산업시스템 공학', '상경계열', '상경계열 경영', '상경계열 경영학과', '생명공학과', '생명과학', '생명과학공학', '생명과학공학과', '생명과학공학부', '생명과학과', '생물', '생물자원공학', '생물학', '생물학과', '생화학', '생화학과', '생활과학부', '생활디자인학과', '서양사학', '세라믹 공학과', '세라믹공학', '세라믹공학과', '수학과', '스포츠레저학과', '스포츠응용산업학과', '시각디자인학과', '시스템 생물학과', '시스템생물학', '시스템생물학과', '식품', '식품영양', '식품영양학', '식품영양학과', '신과대학 신학과', '신문방송학 & 정치외교학', '신소재공학과\\x1d', '신학', '신학과', '신학과&경제학과', '실내건축', '실내건축학과', '심리학 이중', '심리학과', '심리학이중', '아동·가족', '아동가족', '아동가족학', '아동가족학과', '아시아', '아시아학', '아시아학과', '아시아학부', '약학과', '언더우드', '언더우드  경제학', '언더우드  경제학과', '언더우드  국제학', '언더우드  국제학과', '언더우드  생명공학과', '언더우드  아시아학과', '언더우드  지속개발협력', '언더우드 경제', '언더우드 경제학', '언더우드 경제학과', '언더우드 경제학부', '언더우드 계량위험관리', '언더우드 계량위험관리과', '언더우드 계량위험관리학', '언더우드 국제 대학', '언더우드 국제학', '언더우드 국제학과', '언더우드 국제학과 비교문학과문화', '언더우드 국제학부', '언더우드 국제학부 (국제학)', '언더우드 국제학부 경제학', '언더우드 국제학부 경제학과', '언더우드 국제학부 국제학', '언더우드 국제학부 비교문학과 문화과', '언더우드 나노과학공학과', '언더우드 문화디자인경영', '언더우드 문화디자인경영학과', '언더우드 바이오융합과', '언더우드 비교문학과문화', '언더우드 사회정의러더십', '언더우드 생명과학', '언더우드 생명과학공학과', '언더우드 아시아학', '언더우드 아시아학과', '언더우드 아시아학부', '언더우드 언더우드학부', '언더우드 에너지환경융합과', '언더우드 인문사회학부', '언더우드 정보인터렉션디자인학과', '언더우드 정외과', '언더우드 정치외교', '언더우드 정치외교학', '언더우드 정치외교학과', '언더우드 창의기술경영하고가', '언더우드경제학과', '언더우드국제학과', '언더우드국제학과 (국제학)', '언더우드국제학부', '언더우드국제학부 경제학과', '언더우드국제학부 계량위험관리', '언더우드국제학부 비교문학과 문화', '언더우드국제학부 비교문학문화과', '언더우드대학 정치외교학', '언더우드비교문학과문화', '언더우드학과', '언더우드학부', '언더우드학부 경제학', '언더우드학부 경제학과', '언더우드학부 국제학', '언더우드학부 국제학과', '언더우드학부 생명과학공학', '언더우드학부 생명과학공학과', '언더우드학부 정치외교학과', '언론홍보영상학과', '언론홍보영상학부`', '언어병리학과', '언어병리학협동과정', '에너지환경공학과', '에너지환경융합공학', '에너지환경융합학과', '역사문화학', '역사문화학과', '연계 일본학', '연세 언더우드 국제학부', '연세대학교 경영학과', '연세원', '영상디자인', '영어영문학 및 문화비평학', '영어영문학과', '외교통상', '외교통상학과', '원', '원 국제경영', '원 국제통상', '원 국제협력', '원주캠퍼스 경영학과', '원주캠퍼스 의공학부', '원주캠퍼스 정경대학 국제관계학과', '유럽어문학부', '윤석기', '융합과학공학부', '응용생명과학과', '응용통계학과', '의공학', '의공학과', '의공학부', '의류환경학과', '의예', '의예과', '의용공학과', '의용전자공학', '의용전자공학과', '의학과', '이과대학', '이과대학 물리학과', '이과대학 생물학', '이과대학 생화학과', '이과대학 의예과', '이과대학 화학과', '인문학부', '인지과학 협동과정', '인지과학협동과정', '일반대학원', '일반대학원 법학과', '일반대학원 지역학협동과정', '일반대학원 한국합협동과정', '일본학', '임상병리학과', '자연과학부', '작곡', '작곡과', '작업치료', '작업치료학과', '재료공학부', '재활의학', '전기전자공학과', '전산학', '정경대학 국제관계학', '정경대학 국제관계학과', '정보 인터랙션 디자인', '정보기술학부', '정보산업공학과', '정보인터랙션디자인', '정보인터랙션디자인학과', '정보인터렉션디자인', '정보인터렉션디자인과', '정보인터렉션디자인학과', '정보통계학과', '정보통신공학과', '정치외교학과', '주거환경', '주거환경 & 아동가족', '주거환경학과', '주건환경학과', '중어중문학과', '지구시스템과학', '지구시스템과학과', '지속개발협력', '지속개발협력과', '지속개발협력학과', '창의기술경영', '창의기술경영학과', '창의기술학과', '천문우주학', '천문우주학과', '철학과', '철학과 사회학과', '체육교육', '체육교육과', '체육교육학과', '치의예과', '커뮤니케이션 대학원', '컴퓨터', '컴퓨터 과학과', '컴퓨터 산업공학', '컴퓨터 산업공학과', '컴퓨터. 산업공학', '컴퓨터.산업공학', '컴퓨터.산업공학과', '컴퓨터·산업공학', '컴퓨터·산업공학부', '컴퓨터공학', '컴퓨터과학', '컴퓨터과학(복수)', '컴퓨터과학과', '컴퓨터과학솨', '컴퓨터산공공학과', '컴퓨터산업공학', '컴퓨터산업공학과', '컴퓨터산업공학부', '컴퓨터정보통신공학', '컴퓨터정보통신공학부', '테크노아트', '테크노아트학과', '테크노아트학과 문화디자인경영', '테크노아트학부', '토목*환경공학과', '토목공학과', '토목환경', '토목환경공학', '토목환경공학과', '토목환경공학부', '토목환경시스템', '통계', '통계학', '통계학과', '패키징학', '패키징학과', '학부대학', '행정학과', '행정학과 (경영학 이중)', '화공·생명공학부', '화공생명공학', '화공생명공학과', '화공생명공학부', '화공학과', '화학', '화학 및 의화학과', '화학공학', '화학공학과', '화학과', '환경공학', '환경공학과', '환경공학부', '황지현']\n"
     ]
    }
   ],
   "source": [
    "# print(len(korean_deparments), korean_deparments)\n",
    "print(len(korean_deparments),sorted(korean_deparments))"
   ]
  },
  {
   "cell_type": "code",
   "execution_count": 14,
   "metadata": {
    "tags": []
   },
   "outputs": [
    {
     "output_type": "stream",
     "name": "stdout",
     "text": [
      "178 ['EIC', 'Underwood International College', 'UD 국제학과', 'GSIS', 'EESE', 'Information and Interaction Design', 'Economics (UIC)', 'UIC - PSIR', 'UIC 아시아학과', 'UIC 문학과 문화학', 'UIC', 'TAD (IID & CDM)', 'International Studies', 'UIC경제학과', 'International Trade', 'Finance and Management', '언더우드학과 ud', 'Psychology', 'UIC(Quantitativive Risk Management)', 'UD ECON', '언더우드학부- 정치외교학과 (PSIR)', '국제학부 HASS SDC(지속개발협력)', '언더우드학부-국제학 (UD-IS)', 'UIC 생명과학공학', '국제학부 PSIR', 'Underwood Division', 'PSIR', '동아시아국제학부(EIC)', 'ASD', 'International studies', 'UIC 경제', 'Energy& Environmental Science Engineering', 'UIC ECON', '경영전문대학교 GMBA', 'Economics', '테크노아트학부 CDM', 'UIC국제학과', 'UIC 경제학과', 'UIC 비교문학', 'Social Sciences', 'philosophie', '에너지환경융합(EESE)', 'UIC 생명과학공학과', 'UIC 테크노아트학부', 'Quantitative Risk Management', 'Comparative Literature & Culture', 'UIC PSIR', 'UIC 문화디자인경영', '국제학과 (International Studies)', '계량위험관리(QRM)', 'Underwood International College - Economics', 'UIC - Economics', 'UIC IS', 'UIC Political Science and International Relatoins', 'UIC International Studies', 'UIC 창의기술경영', 'UIC 문화디자인경영학과', 'UIC 국제학과', 'UIC 정치외교학과', 'Asian Studies', 'UIC CLC', 'Well-being Tel. Room 315', 'Seodaemungu', 'Changcheondong', 'Seoul', 'CTM', 'Bio-Convergence', 'UIC Information and Interaction Design Major', '언더우드국제학부 (UIC)', 'UIC CTM', 'UIC 비교문학과문화', 'QRM(계량위험관리학과)', 'UIC HASS CDM', 'JCL', 'UIC Economics', 'UIC ASD', 'UD 경제학과', 'Comparative Literature and Culture', 'International Commerce', 'ECON', 'Yonsei university', 'International Trade & Finance', 'ISED', 'Global Elite Department', \"Underwood Int'l College\", 'UIC 언더우드', 'Underwood International College - Underwood Division', 'GSIS 국제통상', 'Underwood PSIR', 'UIC - 경제', 'UIC-경제', 'School of Economics', '문화디자인경영(UIC)', 'International Studies Division', 'UIC 정외과 - 교환 언론홍보학 수강', 'Graduate School of International Studies', 'HASS', 'Applied Statistics', 'TAD (IID)', 'UIC IID', 'Culture and Design Management', 'UD-Economics', 'Peace and Conflict studies', '테크노아트학부(TAD)', 'UIC 경제학', 'UIC 아시아학부', 'UD International Studies', 'UIC 아시아학', 'GLD', 'UD - Economics', 'GLC', 'UIC - International Studies', 'Creative Technology Management', 'UD Econ', 'Justice and Civil Leadership (UIC)', 'UIC-ASD', 'UIC 언더우드국제학과', 'Business Administration', 'GSIS PIC', 'UD', 'UIC-정치외교학', 'UIC 정치외교학', 'UIC-CLC', 'Underwood International College (UIC)', 'UD 경제학', 'UD CLC', 'UD 국제학', 'UIC UD', 'UIC_UD', 'UIC 국제학', 'UIC 정치외교', 'UD경제학과', 'UIC Comparative Literature & Culture', 'Underwood International College- Economics', '국제학부 계량위험관리QRM', 'UIC 경제과', 'GSIS IMP', 'CDM', 'UD 경제', 'Gender Studies(파견교)', 'UIC UD 경제학과', 'uic 경제학과', 'UIC 생명공학', 'ECONOMICS & BUSINESS', 'UIC QRM', 'UIC-Economics', 'TAD', '철학과 (파견학과는 Drama)', 'UD PSIR', 'Comparative Literature and Culture (UIC)', 'Underwood International', 'Electrical Engineering', 'School of Business', 'Underwood International College; International Studies Major', 'East Asia International College', 'Politics', 'SDC', '창의기술경영학과 (CTM)', 'UIC JCL', 'UD IS', 'Bio Convergence', 'UIC HASS JCL', 'Techno-Art Division', 'UIC Bio-Convergence', 'economics', 'UIC 비교문학과 문화', 'UIC정치외교학과', '언더우드학부 국제학과 (IS)', 'UIC economics', 'Underwood International College Comparative Literature and Culture', 'UIC-국제학', 'UIC LSBT', 'UIC-LSBT', 'UD-ECON', 'UIC_CTM', 'Area Study', 'UIC UD ECON', 'LSBT']\n"
     ]
    }
   ],
   "source": [
    "print(len(english_departments), english_departments)"
   ]
  },
  {
   "source": [
    "### Yielding metrics for unsupervised clustering(단과대 vs 종합대)"
   ],
   "cell_type": "markdown",
   "metadata": {}
  },
  {
   "cell_type": "code",
   "execution_count": 15,
   "metadata": {},
   "outputs": [
    {
     "output_type": "execute_result",
     "data": {
      "text/plain": [
       "3885      언론홍보영상학과\n",
       "3886        문헌정보학과\n",
       "3887          경제학과\n",
       "3888        영어영문학과\n",
       "3889    정경대학 국제관계학\n",
       "3890        역사문화학과\n",
       "3891          교육학과\n",
       "3892        국어국문학과\n",
       "3893       생활디자인학과\n",
       "3894      언론홍보영상학과\n",
       "3895        사회체육학과\n",
       "3896        영어영문학과\n",
       "3897       기계전자공학부\n",
       "3898      언론홍보영상학과\n",
       "3899        보건행정학과\n",
       "3900          행정학과\n",
       "3901        영어영문학과\n",
       "3902         도시공학과\n",
       "3903        정치외교학과\n",
       "3904          상경계열\n",
       "3905       생활디자인학과\n",
       "3906      언론홍보영상학과\n",
       "Name: 학과, dtype: object"
      ]
     },
     "metadata": {},
     "execution_count": 15
    }
   ],
   "source": [
    "univ_code = \"JP000023\"\n",
    "one_univ_departments = df_department.loc[df_department[\"대학코드\"]==univ_code][\"학과\"]\n",
    "one_univ_departments"
   ]
  },
  {
   "cell_type": "code",
   "execution_count": 16,
   "metadata": {},
   "outputs": [
    {
     "output_type": "stream",
     "name": "stdout",
     "text": [
      "['언론홍보영상학과', '영어영문학과', '생활디자인학과', '문헌정보학과', '경제학과', '정경대학 국제관계학', '역사문화학과', '교육학과', '국어국문학과', '사회체육학과', '기계전자공학부', '보건행정학과', '행정학과', '도시공학과', '정치외교학과', '상경계열'] [4, 3, 2, 1, 1, 1, 1, 1, 1, 1, 1, 1, 1, 1, 1, 1]\n"
     ]
    }
   ],
   "source": [
    "# 종합대에서 metrics 뽑아낸 예시\n",
    "from collections import Counter, OrderedDict\n",
    "\n",
    "dict_departments = Counter(one_univ_departments)\n",
    "ordered_dict_departments= OrderedDict(dict_departments.most_common())\n",
    "departments = list(ordered_dict_departments.keys())\n",
    "number_of_students = list(ordered_dict_departments.values())\n",
    "print(departments, number_of_students)"
   ]
  },
  {
   "cell_type": "code",
   "execution_count": 17,
   "metadata": {},
   "outputs": [
    {
     "output_type": "execute_result",
     "data": {
      "text/plain": [
       "0.734375"
      ]
     },
     "metadata": {},
     "execution_count": 17
    }
   ],
   "source": [
    "# variance of students' departments\n",
    "np.var(number_of_students)"
   ]
  },
  {
   "cell_type": "code",
   "execution_count": 18,
   "metadata": {},
   "outputs": [
    {
     "output_type": "stream",
     "name": "stdout",
     "text": [
      "['독어독문학과', '영어영문학과', '경영학과', '정치외교학과', '생활디자인학과', '사학과', '문화인류학과', 'philosophie', '사회복지학과', '교육학과', '심리학과', '인문학부', '유럽어문학부', '상경계열'] [32, 4, 3, 2, 1, 1, 1, 1, 1, 1, 1, 1, 1, 1]\n"
     ]
    }
   ],
   "source": [
    "# 단과대에서 metrics 뽑아낸 예시\n",
    "from collections import Counter, OrderedDict\n",
    "\n",
    "univ_code = \"DE000003\"\n",
    "one_univ_departments = df_department.loc[df_department[\"대학코드\"]==univ_code][\"학과\"]\n",
    "one_univ_departments\n",
    "\n",
    "dict_departments = Counter(one_univ_departments)\n",
    "ordered_dict_departments= OrderedDict(dict_departments.most_common())\n",
    "departments = list(ordered_dict_departments.keys())\n",
    "number_of_students = list(ordered_dict_departments.values())\n",
    "print(departments, number_of_students)"
   ]
  },
  {
   "cell_type": "code",
   "execution_count": 19,
   "metadata": {},
   "outputs": [
    {
     "output_type": "execute_result",
     "data": {
      "text/plain": [
       "62.6581632653061"
      ]
     },
     "metadata": {},
     "execution_count": 19
    }
   ],
   "source": [
    "# variance of students' departments\n",
    "np.var(number_of_students)"
   ]
  },
  {
   "source": [
    "### Making Dataset for clustering"
   ],
   "cell_type": "markdown",
   "metadata": {}
  },
  {
   "cell_type": "code",
   "execution_count": 20,
   "metadata": {},
   "outputs": [],
   "source": [
    "def var_and_sum(df_department, univ_code):\n",
    "    one_univ_departments = df_department.loc[df_department[\"대학코드\"]==univ_code][\"학과\"]\n",
    "    dict_departments = Counter(one_univ_departments)\n",
    "    ordered_dict_departments= OrderedDict(dict_departments.most_common())\n",
    "    departments = list(ordered_dict_departments.keys())\n",
    "    number_of_students = list(ordered_dict_departments.values())\n",
    "    print(np.var(number_of_students), sum(number_of_students), len(departments))\n",
    "    return np.var(number_of_students), sum(number_of_students), len(departments)"
   ]
  },
  {
   "cell_type": "code",
   "execution_count": 21,
   "metadata": {},
   "outputs": [
    {
     "output_type": "stream",
     "name": "stdout",
     "text": [
      "62.6581632653061 51 14\n"
     ]
    },
    {
     "output_type": "execute_result",
     "data": {
      "text/plain": [
       "(62.6581632653061, 51, 14)"
      ]
     },
     "metadata": {},
     "execution_count": 21
    }
   ],
   "source": [
    "var_and_sum(df_department, univ_code)"
   ]
  },
  {
   "cell_type": "code",
   "execution_count": 22,
   "metadata": {},
   "outputs": [
    {
     "output_type": "execute_result",
     "data": {
      "text/plain": [
       "['AR000004', 'AT000001', 'AT000002', 'AT000003', 'AT000006']"
      ]
     },
     "metadata": {},
     "execution_count": 22
    }
   ],
   "source": [
    "univ_list = list(df_department[\"대학코드\"].drop_duplicates().values)[1:]\n",
    "univ_list[:5]"
   ]
  },
  {
   "cell_type": "code",
   "execution_count": 23,
   "metadata": {},
   "outputs": [
    {
     "output_type": "execute_result",
     "data": {
      "text/plain": [
       "       대학코드           국가                      대학명  파견구분  협정형태  NUM_VISITS  \\\n",
       "0  AF000001  AFGHANISTAN         Kabul University  교환학생  교환대학         NaN   \n",
       "1  AR000001    ARGENTINA  Universidad Blas Pascal  교환학생  ISEP         NaN   \n",
       "\n",
       "   BERT_SUM  RNN_SUM  BERT_AVG  RNN_AVG  BERT_PLUS_RNN_SCORE  \\\n",
       "0       NaN      NaN       NaN      NaN                  NaN   \n",
       "1       NaN      NaN       NaN      NaN                  NaN   \n",
       "\n",
       "                                        COLLEGE_LINK  \n",
       "0  http://oia.yonsei.ac.kr/partner/expReport.asp?...  \n",
       "1  http://oia.yonsei.ac.kr/partner/expReport.asp?...  "
      ],
      "text/html": "<div>\n<style scoped>\n    .dataframe tbody tr th:only-of-type {\n        vertical-align: middle;\n    }\n\n    .dataframe tbody tr th {\n        vertical-align: top;\n    }\n\n    .dataframe thead th {\n        text-align: right;\n    }\n</style>\n<table border=\"1\" class=\"dataframe\">\n  <thead>\n    <tr style=\"text-align: right;\">\n      <th></th>\n      <th>대학코드</th>\n      <th>국가</th>\n      <th>대학명</th>\n      <th>파견구분</th>\n      <th>협정형태</th>\n      <th>NUM_VISITS</th>\n      <th>BERT_SUM</th>\n      <th>RNN_SUM</th>\n      <th>BERT_AVG</th>\n      <th>RNN_AVG</th>\n      <th>BERT_PLUS_RNN_SCORE</th>\n      <th>COLLEGE_LINK</th>\n    </tr>\n  </thead>\n  <tbody>\n    <tr>\n      <th>0</th>\n      <td>AF000001</td>\n      <td>AFGHANISTAN</td>\n      <td>Kabul University</td>\n      <td>교환학생</td>\n      <td>교환대학</td>\n      <td>NaN</td>\n      <td>NaN</td>\n      <td>NaN</td>\n      <td>NaN</td>\n      <td>NaN</td>\n      <td>NaN</td>\n      <td>http://oia.yonsei.ac.kr/partner/expReport.asp?...</td>\n    </tr>\n    <tr>\n      <th>1</th>\n      <td>AR000001</td>\n      <td>ARGENTINA</td>\n      <td>Universidad Blas Pascal</td>\n      <td>교환학생</td>\n      <td>ISEP</td>\n      <td>NaN</td>\n      <td>NaN</td>\n      <td>NaN</td>\n      <td>NaN</td>\n      <td>NaN</td>\n      <td>NaN</td>\n      <td>http://oia.yonsei.ac.kr/partner/expReport.asp?...</td>\n    </tr>\n  </tbody>\n</table>\n</div>"
     },
     "metadata": {},
     "execution_count": 23
    }
   ],
   "source": [
    "df_univ = pd.read_csv(\"data_wrangled/df_univ_wrangled.csv\")\n",
    "df_univ.head(2)"
   ]
  },
  {
   "cell_type": "code",
   "execution_count": 24,
   "metadata": {},
   "outputs": [
    {
     "output_type": "execute_result",
     "data": {
      "text/plain": [
       "'Maastricht University'"
      ]
     },
     "metadata": {},
     "execution_count": 24
    }
   ],
   "source": [
    "# get univ_name\n",
    "given_code = \"NL000010\"\n",
    "df_univ.loc[df_univ[\"대학코드\"]==given_code][\"대학명\"].iloc[0]"
   ]
  },
  {
   "cell_type": "code",
   "execution_count": 25,
   "metadata": {
    "tags": []
   },
   "outputs": [
    {
     "output_type": "stream",
     "name": "stdout",
     "text": [
      "0.0 1 1\n",
      "25.6 40 10\n",
      "0.0 3 3\n",
      "0.0 7 7\n",
      "27.795555555555556 46 15\n",
      "6.1875 13 4\n",
      "0.1728395061728395 11 9\n",
      "1.603305785123967 20 11\n",
      "0.3724489795918368 19 14\n",
      "0.13888888888888887 7 6\n",
      "0.12244897959183676 16 14\n",
      "0.9480968858131488 24 17\n",
      "1.7514792899408282 22 13\n",
      "2.248263888888889 43 24\n",
      "0.20408163265306126 9 7\n",
      "0.2222222222222222 4 3\n",
      "1.4591836734693875 44 28\n",
      "2.6450617283950617 62 36\n",
      "0.0 1 1\n",
      "3.4672216441207078 58 31\n",
      "4.025147928994082 49 26\n",
      "0.7700831024930747 30 19\n",
      "0.0 10 10\n",
      "14.62809917355372 34 11\n",
      "0.0 5 5\n",
      "0.0 1 1\n",
      "1.05 15 10\n",
      "4.195555555555556 29 15\n",
      "2.0 6 3\n",
      "6.8 15 5\n",
      "0.12244897959183677 8 7\n",
      "2.9008264462809925 42 22\n",
      "23.789930555555554 79 24\n",
      "0.0 1 1\n",
      "0.0 4 4\n",
      "0.0 3 3\n",
      "5.878808864265926 93 38\n",
      "25.25 168 56\n",
      "54.81000000000002 47 10\n",
      "5.440000000000002 13 5\n",
      "7.613399728383884 108 47\n",
      "0.1875 10 8\n",
      "0.6875 7 4\n",
      "26.888888888888886 14 3\n",
      "0.25 3 2\n",
      "57.333333333333336 36 6\n",
      "0.0 1 1\n",
      "0.16000000000000006 6 5\n",
      "1.0 4 2\n",
      "2.444444444444444 15 9\n",
      "2.8888888888888893 8 3\n",
      "1.2686980609418286 25 19\n",
      "0.0 2 2\n",
      "10.148760330578517 96 44\n",
      "1.963718820861678 38 21\n",
      "6.494897959183672 29 14\n",
      "2.5564803804994045 53 29\n",
      "35.72222222222223 40 12\n",
      "0.13888888888888887 7 6\n",
      "4.0 10 5\n",
      "0.12244897959183677 8 7\n",
      "0.0 1 1\n",
      "1.4400000000000002 8 5\n",
      "2.560000000000001 9 5\n",
      "3.0028344671201825 73 42\n",
      "5.859375 23 8\n",
      "0.0 1 1\n",
      "23.346938775510207 38 14\n",
      "0.0 1 1\n",
      "5.6734693877551035 18 7\n",
      "3.4722222222222214 11 6\n",
      "0.0 1 1\n",
      "1.8119834710743803 39 22\n",
      "13.520661157024795 28 11\n",
      "40.413223140495866 40 11\n",
      "62.6581632653061 51 14\n",
      "0.2222222222222222 4 3\n",
      "0.0 1 1\n",
      "2.3724489795918364 23 14\n",
      "0.0 1 1\n",
      "15.775147928994077 31 13\n",
      "17.418685121107263 44 17\n",
      "1.102040816326531 11 7\n",
      "0.0 4 4\n",
      "0.0 2 2\n",
      "7.493333333333334 27 15\n",
      "2.003826530612245 47 28\n",
      "7.053254437869824 28 13\n",
      "0.5763888888888888 19 12\n",
      "0.0 8 8\n",
      "7.09888888888889 79 30\n",
      "0.0 1 1\n",
      "57.760000000000005 24 5\n",
      "1.4010416666666667 39 24\n",
      "1.0858725761772852 30 19\n",
      "0.0 3 3\n",
      "0.0 2 1\n",
      "0.0 1 1\n",
      "0.0 1 1\n",
      "0.0 4 4\n",
      "0.0 3 3\n",
      "0.1875 15 12\n",
      "0.3555555555555554 20 15\n",
      "0.13888888888888887 7 6\n",
      "0.16000000000000006 6 5\n",
      "0.2222222222222222 4 3\n",
      "0.0 1 1\n",
      "1.1211072664359862 30 17\n",
      "3.2941176470588234 34 17\n",
      "0.2222222222222222 4 3\n",
      "0.0 1 1\n",
      "1.0617283950617284 39 27\n",
      "88.91555555555553 73 15\n",
      "2.0 18 9\n",
      "47.48979591836733 46 14\n",
      "12.239999999999998 17 5\n",
      "1.6875 7 4\n",
      "5.9136 52 25\n",
      "1.226666666666667 27 15\n",
      "0.6666666666666666 6 3\n",
      "0.0 1 1\n",
      "0.234375 11 8\n",
      "18.824196597353502 70 23\n",
      "10.6875 72 32\n",
      "4.0 6 2\n",
      "0.25 3 2\n",
      "0.888888888888889 5 3\n",
      "0.0 1 1\n",
      "0.0 2 2\n",
      "0.0 2 2\n",
      "0.0 1 1\n",
      "0.0 1 1\n",
      "0.0 1 1\n",
      "0.09 11 10\n",
      "0.0 1 1\n",
      "0.0 1 1\n",
      "0.0 1 1\n",
      "0.0 2 2\n",
      "3.639889196675899 42 19\n",
      "0.1983471074380165 14 11\n",
      "0.0 1 1\n",
      "0.0 1 1\n",
      "0.13888888888888887 7 6\n",
      "0.0 5 5\n",
      "0.0 5 5\n",
      "0.0 1 1\n",
      "13.113221329437549 91 37\n",
      "0.0 1 1\n",
      "0.0 7 7\n",
      "2.980228928199792 53 31\n",
      "0.0 1 1\n",
      "0.0 1 1\n",
      "2.2665289256198347 39 22\n",
      "0.0 1 1\n",
      "0.0 5 5\n",
      "2.739795918367348 25 14\n",
      "0.109375 9 8\n",
      "0.09876543209876544 10 9\n",
      "1.75 12 8\n",
      "0.0 2 2\n",
      "0.1875 5 4\n",
      "0.0 5 5\n",
      "0.109375 9 8\n",
      "0.4444444444444444 12 9\n",
      "0.0 2 2\n",
      "0.984375 11 8\n",
      "21.654320987654316 26 9\n",
      "0.0 1 1\n",
      "0.45 15 10\n",
      "49.42560553633217 60 17\n",
      "0.6666666666666666 6 3\n",
      "2.0 6 3\n",
      "3.764705882352941 34 17\n",
      "3.966942148760331 20 11\n",
      "0.0 3 3\n",
      "0.0 2 1\n",
      "0.0 1 1\n",
      "0.0 4 4\n",
      "0.7253269916765754 41 29\n",
      "0.3400000000000001 28 20\n",
      "1.839506172839506 32 18\n",
      "0.109375 9 8\n",
      "0.2986767485822307 30 23\n",
      "0.6581632653061221 19 14\n",
      "0.0 1 1\n",
      "0.0 2 2\n",
      "1.8775000000000002 74 40\n",
      "0.9342560553633218 28 17\n",
      "1.0581717451523547 32 19\n",
      "0.3733333333333334 21 15\n",
      "0.5357142857142857 21 14\n",
      "0.0 2 2\n",
      "0.0 7 7\n",
      "0.0 5 5\n",
      "0.08264462809917354 12 11\n",
      "0.0 6 6\n",
      "0.8642659279778394 26 19\n",
      "1.6944444444444444 33 18\n",
      "0.734375 22 16\n",
      "0.23668639053254442 18 13\n",
      "0.12244897959183677 8 7\n",
      "0.20999999999999996 13 10\n",
      "0.2222222222222222 4 3\n",
      "0.0 5 5\n",
      "13.888888888888886 16 6\n",
      "0.0 1 1\n",
      "0.5555555555555557 10 6\n",
      "1.8792866941015083 41 27\n",
      "0.0 3 3\n",
      "0.0 2 2\n",
      "0.0 1 1\n",
      "1.8684807256235831 38 21\n",
      "0.0 1 1\n",
      "0.12244897959183677 8 7\n",
      "0.2222222222222222 4 3\n",
      "0.0 2 2\n",
      "47.27734375 61 16\n",
      "22.00617283950617 116 36\n",
      "32.710059171597635 46 13\n",
      "1.5206611570247934 34 22\n",
      "0.109375 9 8\n",
      "68.359375 33 8\n",
      "10.035123966942148 59 22\n",
      "12.0894901144641 83 31\n",
      "0.25 3 2\n",
      "114.8843537414966 108 21\n",
      "0.16000000000000006 6 5\n",
      "0.28395061728395066 22 18\n",
      "0.34693877551020413 18 14\n",
      "5.760000000000001 11 5\n",
      "0.0 5 5\n",
      "21.6 20 5\n",
      "5.418367346938778 76 28\n",
      "0.109375 9 8\n",
      "1.3177083333333333 39 24\n",
      "0.0 14 14\n",
      "0.38888888888888884 16 12\n",
      "0.3125 20 16\n",
      "0.0 1 1\n",
      "0.0 1 1\n",
      "0.0 1 1\n",
      "0.8395061728395062 16 9\n",
      "7.0 16 8\n",
      "73.47222222222224 29 6\n",
      "181.484375 51 8\n",
      "54.04958677685949 48 11\n",
      "0.0 1 1\n",
      "3.4842249657064484 49 27\n",
      "0.0 1 1\n",
      "8.734375 19 8\n",
      "4.681440443213295 37 19\n",
      "1.3475000000000001 29 20\n",
      "0.0 2 2\n",
      "2.2816 57 25\n",
      "2.6900000000000004 84 40\n",
      "22.13412655489454 101 43\n",
      "64.1388888888889 46 12\n",
      "0.0 1 1\n",
      "1.6875 7 4\n",
      "0.0 1 1\n",
      "0.6400000000000002 7 5\n",
      "0.0 2 2\n",
      "0.25 6 4\n",
      "0.0 4 4\n",
      "0.984375 13 8\n",
      "0.1728395061728395 11 9\n",
      "0.16000000000000006 6 5\n",
      "6.555555555555556 14 6\n",
      "0.0 2 2\n",
      "0.1875 5 4\n",
      "0.13888888888888887 7 6\n",
      "0.0 1 1\n",
      "28.634146341463413 123 41\n",
      "0.0 3 3\n",
      "9.362718089990816 89 33\n",
      "2.6875 9 4\n",
      "6.862003780718333 48 23\n",
      "0.0 2 2\n",
      "0.40972222222222204 17 12\n",
      "0.6875 7 4\n",
      "0.25 12 8\n",
      "0.2222222222222222 5 3\n",
      "0.0 1 1\n",
      "16.875432525951553 90 34\n",
      "0.4375 10 8\n",
      "0.5555555555555557 8 6\n",
      "2.2130177514792893 22 13\n",
      "0.0 4 1\n",
      "0.0 6 6\n",
      "0.0 3 3\n",
      "0.46913580246913583 13 9\n",
      "0.0 2 2\n",
      "1.688888888888888 25 15\n",
      "0.2222222222222222 4 3\n",
      "0.0 1 1\n",
      "1.49609375 23 16\n",
      "0.0 1 1\n",
      "6.209366391184571 72 33\n",
      "4.6630859375 75 32\n",
      "2.3555555555555547 25 15\n",
      "0.75 6 4\n",
      "0.0 2 2\n",
      "0.0 2 2\n",
      "0.16000000000000006 6 5\n",
      "101.62109375 71 16\n",
      "0.0 1 1\n",
      "0.0 1 1\n",
      "0.0 2 2\n",
      "0.1875 5 4\n",
      "2.195555555555556 29 15\n",
      "0.0 2 2\n",
      "1.222222222222222 10 6\n",
      "0.0 3 3\n",
      "0.12244897959183676 16 14\n",
      "1.7755102040816328 24 14\n",
      "0.1875 5 4\n",
      "0.0 1 1\n",
      "0.0 1 1\n",
      "12.192816635160684 52 23\n",
      "0.0 1 1\n",
      "28.084897959183667 106 35\n",
      "6.71280276816609 41 17\n",
      "15.6 65 25\n",
      "0.0 1 1\n",
      "0.888888888888889 10 6\n",
      "4.65234375 29 16\n",
      "0.0 1 1\n",
      "1.109375 17 8\n",
      "0.0 2 2\n",
      "0.2469135802469136 13 9\n",
      "0.34693877551020413 18 14\n",
      "0.0 3 3\n",
      "1.0208333333333333 21 12\n",
      "0.0 4 4\n",
      "2.0 9 3\n",
      "7.2384 51 25\n",
      "0.0 1 1\n",
      "0.5306122448979591 10 7\n",
      "0.0 2 2\n",
      "0.0 2 2\n",
      "0.0 1 1\n",
      "4.366863905325444 30 13\n",
      "0.0 8 8\n",
      "0.0 4 4\n",
      "5.914930555555556 61 24\n",
      "1.5306122448979598 22 14\n",
      "0.0 1 1\n",
      "1.0 4 2\n",
      "0.5144628099173556 31 22\n",
      "1.2098765432098766 17 9\n",
      "3.0 8 4\n",
      "0.0 1 1\n",
      "3.84 45 25\n",
      "50.0 18 3\n",
      "0.0 1 1\n",
      "0.6400000000000002 7 5\n",
      "6.44628099173554 23 11\n",
      "0.16000000000000006 6 5\n",
      "0.0 1 1\n",
      "5.04 24 10\n",
      "0.64 8 5\n",
      "0.0 1 1\n",
      "0.0 2 2\n",
      "1.7716262975778552 27 17\n",
      "1.6213017751479284 21 13\n",
      "3.8269896193771626 38 17\n",
      "0.75 18 12\n",
      "10.540000000000003 52 20\n",
      "5.222222222222222 52 24\n",
      "1.222222222222222 10 6\n",
      "0.0 6 6\n",
      "0.0 4 4\n",
      "0.0 3 3\n",
      "0.0 2 2\n",
      "6.9783950617283965 98 36\n",
      "0.0 1 1\n",
      "0.0 1 1\n",
      "0.0 2 2\n",
      "3.173553719008265 23 11\n",
      "1.734375 13 8\n",
      "81.14380165289255 235 55\n",
      "7.493333333333334 66 30\n",
      "3.8171745152354557 35 19\n",
      "0.24 8 5\n",
      "2.0 22 11\n",
      "0.1728395061728395 11 9\n",
      "0.1875 10 8\n",
      "1.0 4 2\n",
      "1.6053719008264453 35 22\n",
      "0.58984375 21 16\n",
      "0.0 1 1\n",
      "73.0932227354133 424 103\n",
      "14.209183673469386 172 56\n",
      "94.69522685107104 335 77\n",
      "54.99265306122448 314 70\n",
      "8.25208085612366 65 29\n",
      "80.96450325561857 358 69\n",
      "9.048010973936899 71 27\n",
      "58.522448979591836 290 70\n",
      "2.734375 13 8\n",
      "6.485207100591718 36 13\n",
      "25.384615384615383 78 26\n",
      "0.0 2 2\n",
      "13.236159169550172 81 34\n",
      "17.209994051160024 127 41\n",
      "0.16000000000000006 6 5\n",
      "0.0 4 4\n",
      "4.427755102040817 69 35\n",
      "17.129600000000003 63 25\n",
      "0.0 1 1\n",
      "0.5 12 8\n",
      "2.8421052631578947 38 19\n",
      "9.443786982248518 35 13\n",
      "0.6400000000000001 14 10\n",
      "0.0 1 1\n",
      "0.0 2 2\n",
      "0.0 1 1\n",
      "0.0 4 4\n",
      "0.1728395061728395 11 9\n",
      "3.848888888888889 64 30\n",
      "9.413223140495864 52 22\n",
      "0.0 1 1\n",
      "0.0 1 1\n",
      "0.0 1 1\n",
      "14.222222222222223 11 3\n",
      "5.092970521541952 43 21\n",
      "11.916666666666666 30 12\n",
      "11.040000000000001 34 10\n",
      "0.0 2 2\n",
      "9.529656607700305 69 31\n",
      "0.0 2 2\n",
      "0.3112244897959185 17 14\n",
      "3.439446366782007 62 34\n",
      "0.0 5 5\n",
      "0.0 2 2\n",
      "2.630165289256199 39 22\n",
      "0.9135802469135803 14 9\n",
      "87.33471074380164 188 44\n",
      "0.0 3 3\n",
      "0.0 1 1\n",
      "0.0 2 2\n",
      "0.0 6 6\n",
      "0.2222222222222222 12 9\n",
      "1.5288888888888883 26 15\n",
      "0.0 4 4\n",
      "4.224852071005918 25 13\n",
      "0.0 1 1\n",
      "0.0 3 3\n",
      "0.0 1 1\n",
      "1.25 21 14\n",
      "1.325443786982248 19 13\n",
      "3.5041322314049594 26 11\n",
      "0.0 1 1\n",
      "0.0 3 3\n",
      "7.68359375 33 16\n",
      "0.0 5 5\n",
      "0.0 4 4\n",
      "0.0 1 1\n",
      "5.6280991735537205 64 22\n",
      "0.484375 22 16\n",
      "0.0 4 4\n",
      "0.25 3 2\n",
      "0.0 9 9\n",
      "0.2222222222222222 12 9\n",
      "0.0 1 1\n",
      "0.0 2 2\n",
      "0.0 4 4\n",
      "0.0 1 1\n",
      "0.0 1 1\n"
     ]
    },
    {
     "output_type": "execute_result",
     "data": {
      "text/plain": [
       "         대학코드                                               대학명 NUM_VISITS  \\\n",
       "0    AR000004                          Universidad del Salvador          1   \n",
       "1    AT000001  FH Kufstein Tirol University of Applied Sciences         40   \n",
       "2    AT000002                  Johannes Kepler Universitat Linz          3   \n",
       "3    AT000003                    Karl-Franzens-Universitat Graz          7   \n",
       "4    AT000006       Vienna University of Economics and Business         46   \n",
       "..        ...                                               ...        ...   \n",
       "464  US000292                             Upper Iowa University          1   \n",
       "465  US000293                                Colgate University          2   \n",
       "466  US000301                   Case Western Reserve University          4   \n",
       "467  US000303                                   Amherst-College          1   \n",
       "468  US000400                Dominican University of California          1   \n",
       "\n",
       "    NUM_DEP        VAR  \n",
       "0         1   0.000000  \n",
       "1        10  25.600000  \n",
       "2         3   0.000000  \n",
       "3         7   0.000000  \n",
       "4        15  27.795556  \n",
       "..      ...        ...  \n",
       "464       1   0.000000  \n",
       "465       2   0.000000  \n",
       "466       4   0.000000  \n",
       "467       1   0.000000  \n",
       "468       1   0.000000  \n",
       "\n",
       "[469 rows x 5 columns]"
      ],
      "text/html": "<div>\n<style scoped>\n    .dataframe tbody tr th:only-of-type {\n        vertical-align: middle;\n    }\n\n    .dataframe tbody tr th {\n        vertical-align: top;\n    }\n\n    .dataframe thead th {\n        text-align: right;\n    }\n</style>\n<table border=\"1\" class=\"dataframe\">\n  <thead>\n    <tr style=\"text-align: right;\">\n      <th></th>\n      <th>대학코드</th>\n      <th>대학명</th>\n      <th>NUM_VISITS</th>\n      <th>NUM_DEP</th>\n      <th>VAR</th>\n    </tr>\n  </thead>\n  <tbody>\n    <tr>\n      <th>0</th>\n      <td>AR000004</td>\n      <td>Universidad del Salvador</td>\n      <td>1</td>\n      <td>1</td>\n      <td>0.000000</td>\n    </tr>\n    <tr>\n      <th>1</th>\n      <td>AT000001</td>\n      <td>FH Kufstein Tirol University of Applied Sciences</td>\n      <td>40</td>\n      <td>10</td>\n      <td>25.600000</td>\n    </tr>\n    <tr>\n      <th>2</th>\n      <td>AT000002</td>\n      <td>Johannes Kepler Universitat Linz</td>\n      <td>3</td>\n      <td>3</td>\n      <td>0.000000</td>\n    </tr>\n    <tr>\n      <th>3</th>\n      <td>AT000003</td>\n      <td>Karl-Franzens-Universitat Graz</td>\n      <td>7</td>\n      <td>7</td>\n      <td>0.000000</td>\n    </tr>\n    <tr>\n      <th>4</th>\n      <td>AT000006</td>\n      <td>Vienna University of Economics and Business</td>\n      <td>46</td>\n      <td>15</td>\n      <td>27.795556</td>\n    </tr>\n    <tr>\n      <th>...</th>\n      <td>...</td>\n      <td>...</td>\n      <td>...</td>\n      <td>...</td>\n      <td>...</td>\n    </tr>\n    <tr>\n      <th>464</th>\n      <td>US000292</td>\n      <td>Upper Iowa University</td>\n      <td>1</td>\n      <td>1</td>\n      <td>0.000000</td>\n    </tr>\n    <tr>\n      <th>465</th>\n      <td>US000293</td>\n      <td>Colgate University</td>\n      <td>2</td>\n      <td>2</td>\n      <td>0.000000</td>\n    </tr>\n    <tr>\n      <th>466</th>\n      <td>US000301</td>\n      <td>Case Western Reserve University</td>\n      <td>4</td>\n      <td>4</td>\n      <td>0.000000</td>\n    </tr>\n    <tr>\n      <th>467</th>\n      <td>US000303</td>\n      <td>Amherst-College</td>\n      <td>1</td>\n      <td>1</td>\n      <td>0.000000</td>\n    </tr>\n    <tr>\n      <th>468</th>\n      <td>US000400</td>\n      <td>Dominican University of California</td>\n      <td>1</td>\n      <td>1</td>\n      <td>0.000000</td>\n    </tr>\n  </tbody>\n</table>\n<p>469 rows × 5 columns</p>\n</div>"
     },
     "metadata": {},
     "execution_count": 25
    }
   ],
   "source": [
    "df_data = pd.DataFrame(columns=[\"대학코드\", \"대학명\",\"NUM_VISITS\", \"NUM_DEP\", \"VAR\"])\n",
    "for univ_code_i in univ_list:\n",
    "    univ_name = df_univ.loc[df_univ[\"대학코드\"]==univ_code_i][\"대학명\"].iloc[0]\n",
    "    var_data, sum_data, dep_data = var_and_sum(df_department, univ_code_i)\n",
    "    df_data = df_data.append({\"대학코드\":univ_code_i, \"대학명\": univ_name, \n",
    "    \"NUM_VISITS\":sum_data, \"NUM_DEP\":dep_data, \"VAR\":var_data}, ignore_index=True)\n",
    "df_data"
   ]
  },
  {
   "cell_type": "code",
   "execution_count": 26,
   "metadata": {},
   "outputs": [],
   "source": [
    "df_data.to_csv(\"./data_wrangled/department_data.csv\", index=False)"
   ]
  },
  {
   "cell_type": "code",
   "execution_count": null,
   "metadata": {},
   "outputs": [],
   "source": []
  }
 ]
}